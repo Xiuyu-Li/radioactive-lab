{
 "cells": [
  {
   "cell_type": "markdown",
   "metadata": {},
   "source": [
    "<h1>Preliminaries</h1>\n",
    "<p>This codebase seeks to replicate the following paper:</p>\n",
    "<p><strong>Radioactive data: tracing through training</strong><br />\n",
    "    <a href=\"https://arxiv.org/pdf/2002.00937.pdf\">https://arxiv.org/pdf/2002.00937.pdf</a>\n",
    "        </p>\n",
    "    \n",
    "<p>We have done a full refactor of the original open source Facebook code. Separately we also created a basic example demonstrating the optimization of a resnet18 cifar10 classifier. This is used as a template for the second task below.</p>\n",
    "<p>This notebook goes through the following steps:</p>\n",
    "   <ol>\n",
    "       <li>Mark a certain subset of the CIFAR10 dataset (target data) using a resnet18 pretrained on imagenet (marking network)</li>\n",
    "       <li>Use the modified CIFAR10 dataset to train a new resnet18 (target network)</li>\n",
    "       <li>Attempt to detect radioactivity in the target network</li>\n",
    "    </ol>\n",
    "</p>\n",
    "<p><strong>Note:</strong><br/>\n",
    "In our example the marking network is pretrained on imagenet, while our target data is CIFAR10.\n",
    "According to section 5.5 of the paper, even a marking network trained on a different\n",
    "data distribution will output radioactive markings that are useful when applied to at least 10% of a class. \n",
    "This number could vary, we are just quoting the minimum radioactive data percentage shown in the paper. </p>\n",
    "<p>If the marking network was trained on the same data distribution it is likely that a lower percentage of the\n",
    "   target data would require marking to achieve the same p value in the detection stage.</p>\n",
    "<p>When performing our testing we found that a 10% marking only produced a p-value of around 0.85, indicating that we should go higher. We are currently performing a range of tests on this.</p>"
   ]
  },
  {
   "cell_type": "markdown",
   "metadata": {},
   "source": [
    "<h1>Creating Radioactive Data (Image Marking)</h1>"
   ]
  },
  {
   "cell_type": "markdown",
   "metadata": {},
   "source": [
    "<p>This is self-contained within <strong>make_data_radioactive.py</strong></p>\n",
    "<p>The <em>\"if __name__ == '__main__':\"</em> will:</p>\n",
    "<ol>\n",
    "    <li>Create an experiments directory <em>experiments/radioactive</em>. All further paths are relative to this directory (except tensorboard).</li>\n",
    "    <li>Setup logging to <em>marking.log</em></li>\n",
    "    <li>Randomly select an image class from the CIFAR10 dataset, then randomly sample a certain percentage of images in that class. After marking, these images are saved with their original index in the filename, allowing us to create a merged training set when training our classifier further on. These unmarked images are sent to TensorBoard for viewing.</li>\n",
    "    <li>Download a pretrained resnet18 for use as the marking network.\n",
    "    <li>Random carriers are created for all classes. These are saved to <em>carrier.pth</em> for use when detecting radioactivity.</li>\n",
    "    <li>Call the main function that performs the training.</li>\n",
    "</ol>\n",
    "<p>Unlike a classifier, we are backpropagating all the way to the images (similar to a GAN) from a special loss function designed to maximize carrier alignment, while minimizing feature and image difference between the current and original. See section 3.3 of the paper for more details.</p>\n",
    "<p>Given the above, the main method runs through batches of images, performing a random augmentation then running Adam over a desired number of epochs using this special loss function to add a subtle mark to each image</p>\n",
    "<p>After each epoch we clamp all pixels so they don't drift outside of 0-255.</p>\n",
    "<p>Once all epochs are completed for a given batch of images, the newly marked images are saved into <em>marked_images/{class_id}.</em></p>\n",
    "<p>Each batch of images has it's own TensorBoard log for you to inspect the training loss over time.</p>\n",
    "<p>It takes about 1:30 to train 500 images on a 980ti.</p>"
   ]
  },
  {
   "cell_type": "code",
   "execution_count": 5,
   "metadata": {
    "scrolled": true
   },
   "outputs": [
    {
     "name": "stdout",
     "output_type": "stream",
     "text": [
      "Files already downloaded and verified\n",
      "INFO - 04/19/21 17:05:29 - 3 days, 21:44:40 - Randomly selected image class 9 (truck)\n",
      "INFO - 04/19/21 17:05:32 - 3 days, 21:44:44 - CUDA Available? True\n",
      "INFO - 04/19/21 17:05:32 - 3 days, 21:44:44 - Configuring marking network\n",
      "INFO - 04/19/21 17:05:32 - 3 days, 21:44:44 - Slicing carrier for class id 9\n",
      "INFO - 04/19/21 17:05:32 - 3 days, 21:44:44 - Enabling gradient on the images\n",
      "INFO - 04/19/21 17:05:32 - 3 days, 21:44:44 - =========== Commencing Training ===========\n",
      "INFO - 04/19/21 17:05:32 - 3 days, 21:44:44 - Batch Size: 32\n",
      "INFO - 04/19/21 17:05:32 - 3 days, 21:44:44 - Getting original features\n"
     ]
    },
    {
     "data": {
      "application/vnd.jupyter.widget-view+json": {
       "model_id": "a91a09405bfc41fa9a65af9b8eaab716",
       "version_major": 2,
       "version_minor": 0
      },
      "text/plain": [
       "HBox(children=(FloatProgress(value=0.0), HTML(value='')))"
      ]
     },
     "metadata": {},
     "output_type": "display_data"
    },
    {
     "name": "stdout",
     "output_type": "stream",
     "text": [
      "\n",
      "INFO - 04/19/21 17:05:34 - 3 days, 21:44:46 - psnr: 28.733550922357367\n",
      "INFO - 04/19/21 17:05:34 - 3 days, 21:44:46 - ft_direction: 5.789703369140625\n",
      "INFO - 04/19/21 17:05:34 - 3 days, 21:44:46 - ft_norm: 29.526885986328125\n",
      "INFO - 04/19/21 17:05:34 - 3 days, 21:44:46 - rho: -1\n",
      "INFO - 04/19/21 17:05:34 - 3 days, 21:44:46 - R: -28834.251953125\n",
      "INFO - 04/19/21 17:05:35 - 3 days, 21:44:46 - Getting original features\n"
     ]
    },
    {
     "data": {
      "application/vnd.jupyter.widget-view+json": {
       "model_id": "db558e55b6324edeb29355a4a1aefa30",
       "version_major": 2,
       "version_minor": 0
      },
      "text/plain": [
       "HBox(children=(FloatProgress(value=0.0), HTML(value='')))"
      ]
     },
     "metadata": {},
     "output_type": "display_data"
    },
    {
     "name": "stdout",
     "output_type": "stream",
     "text": [
      "\n",
      "INFO - 04/19/21 17:05:37 - 3 days, 21:44:49 - psnr: 28.762537890457438\n",
      "INFO - 04/19/21 17:05:37 - 3 days, 21:44:49 - ft_direction: 5.939446926116943\n",
      "INFO - 04/19/21 17:05:37 - 3 days, 21:44:49 - ft_norm: 29.720863342285156\n",
      "INFO - 04/19/21 17:05:37 - 3 days, 21:44:49 - rho: -1\n",
      "INFO - 04/19/21 17:05:37 - 3 days, 21:44:49 - R: -29006.5\n",
      "INFO - 04/19/21 17:05:37 - 3 days, 21:44:49 - Getting original features\n"
     ]
    },
    {
     "data": {
      "application/vnd.jupyter.widget-view+json": {
       "model_id": "c2fcc5b070a54836b2c66cc9dc816b19",
       "version_major": 2,
       "version_minor": 0
      },
      "text/plain": [
       "HBox(children=(FloatProgress(value=0.0), HTML(value='')))"
      ]
     },
     "metadata": {},
     "output_type": "display_data"
    },
    {
     "name": "stdout",
     "output_type": "stream",
     "text": [
      "\n",
      "INFO - 04/19/21 17:05:40 - 3 days, 21:44:51 - psnr: 28.718022720300482\n",
      "INFO - 04/19/21 17:05:40 - 3 days, 21:44:51 - ft_direction: 5.907112121582031\n",
      "INFO - 04/19/21 17:05:40 - 3 days, 21:44:51 - ft_norm: 30.11117935180664\n",
      "INFO - 04/19/21 17:05:40 - 3 days, 21:44:51 - rho: -1\n",
      "INFO - 04/19/21 17:05:40 - 3 days, 21:44:51 - R: -29521.6796875\n",
      "INFO - 04/19/21 17:05:40 - 3 days, 21:44:52 - Getting original features\n"
     ]
    },
    {
     "data": {
      "application/vnd.jupyter.widget-view+json": {
       "model_id": "bb4dc74db401466baacc376b8e5dd1fe",
       "version_major": 2,
       "version_minor": 0
      },
      "text/plain": [
       "HBox(children=(FloatProgress(value=0.0), HTML(value='')))"
      ]
     },
     "metadata": {},
     "output_type": "display_data"
    },
    {
     "name": "stdout",
     "output_type": "stream",
     "text": [
      "\n",
      "INFO - 04/19/21 17:05:42 - 3 days, 21:44:54 - psnr: 28.75846767553024\n",
      "INFO - 04/19/21 17:05:42 - 3 days, 21:44:54 - ft_direction: 6.245540618896484\n",
      "INFO - 04/19/21 17:05:42 - 3 days, 21:44:54 - ft_norm: 31.68224334716797\n",
      "INFO - 04/19/21 17:05:42 - 3 days, 21:44:54 - rho: -1\n",
      "INFO - 04/19/21 17:05:42 - 3 days, 21:44:54 - R: -32561.783203125\n",
      "INFO - 04/19/21 17:05:43 - 3 days, 21:44:55 - Getting original features\n"
     ]
    },
    {
     "data": {
      "application/vnd.jupyter.widget-view+json": {
       "model_id": "01bdb57f28c048c794d2bbcb39b9213c",
       "version_major": 2,
       "version_minor": 0
      },
      "text/plain": [
       "HBox(children=(FloatProgress(value=0.0), HTML(value='')))"
      ]
     },
     "metadata": {},
     "output_type": "display_data"
    },
    {
     "name": "stdout",
     "output_type": "stream",
     "text": [
      "\n",
      "INFO - 04/19/21 17:05:45 - 3 days, 21:44:57 - psnr: 28.809821286582277\n",
      "INFO - 04/19/21 17:05:45 - 3 days, 21:44:57 - ft_direction: 6.304661750793457\n",
      "INFO - 04/19/21 17:05:45 - 3 days, 21:44:57 - ft_norm: 31.83983612060547\n",
      "INFO - 04/19/21 17:05:45 - 3 days, 21:44:57 - rho: -1\n",
      "INFO - 04/19/21 17:05:45 - 3 days, 21:44:57 - R: -32743.369140625\n",
      "INFO - 04/19/21 17:05:46 - 3 days, 21:44:58 - Getting original features\n"
     ]
    },
    {
     "data": {
      "application/vnd.jupyter.widget-view+json": {
       "model_id": "ee6c4619b507418c8f4a42b050d68f12",
       "version_major": 2,
       "version_minor": 0
      },
      "text/plain": [
       "HBox(children=(FloatProgress(value=0.0), HTML(value='')))"
      ]
     },
     "metadata": {},
     "output_type": "display_data"
    },
    {
     "name": "stdout",
     "output_type": "stream",
     "text": [
      "\n",
      "INFO - 04/19/21 17:05:48 - 3 days, 21:45:00 - psnr: 28.749121257447527\n",
      "INFO - 04/19/21 17:05:48 - 3 days, 21:45:00 - ft_direction: 5.777470588684082\n",
      "INFO - 04/19/21 17:05:48 - 3 days, 21:45:00 - ft_norm: 29.01856231689453\n",
      "INFO - 04/19/21 17:05:48 - 3 days, 21:45:00 - rho: -1\n",
      "INFO - 04/19/21 17:05:48 - 3 days, 21:45:00 - R: -27545.466796875\n",
      "INFO - 04/19/21 17:05:48 - 3 days, 21:45:00 - Getting original features\n"
     ]
    },
    {
     "data": {
      "application/vnd.jupyter.widget-view+json": {
       "model_id": "01a12f5fba9a480c8c23d10a1c8aa590",
       "version_major": 2,
       "version_minor": 0
      },
      "text/plain": [
       "HBox(children=(FloatProgress(value=0.0), HTML(value='')))"
      ]
     },
     "metadata": {},
     "output_type": "display_data"
    },
    {
     "name": "stdout",
     "output_type": "stream",
     "text": [
      "\n",
      "INFO - 04/19/21 17:05:50 - 3 days, 21:45:02 - psnr: 28.71690807619028\n",
      "INFO - 04/19/21 17:05:50 - 3 days, 21:45:02 - ft_direction: 5.820949554443359\n",
      "INFO - 04/19/21 17:05:50 - 3 days, 21:45:02 - ft_norm: 29.075593948364258\n",
      "INFO - 04/19/21 17:05:50 - 3 days, 21:45:02 - rho: -1\n",
      "INFO - 04/19/21 17:05:50 - 3 days, 21:45:02 - R: -27573.630859375\n",
      "INFO - 04/19/21 17:05:51 - 3 days, 21:45:03 - Getting original features\n"
     ]
    },
    {
     "data": {
      "application/vnd.jupyter.widget-view+json": {
       "model_id": "a2b0369ec1eb401c8839c760303e2c70",
       "version_major": 2,
       "version_minor": 0
      },
      "text/plain": [
       "HBox(children=(FloatProgress(value=0.0), HTML(value='')))"
      ]
     },
     "metadata": {},
     "output_type": "display_data"
    },
    {
     "name": "stdout",
     "output_type": "stream",
     "text": [
      "\n",
      "INFO - 04/19/21 17:05:53 - 3 days, 21:45:05 - psnr: 28.73978780337505\n",
      "INFO - 04/19/21 17:05:53 - 3 days, 21:45:05 - ft_direction: 6.019376277923584\n",
      "INFO - 04/19/21 17:05:53 - 3 days, 21:45:05 - ft_norm: 29.960683822631836\n",
      "INFO - 04/19/21 17:05:53 - 3 days, 21:45:05 - rho: -1\n",
      "INFO - 04/19/21 17:05:53 - 3 days, 21:45:05 - R: -29349.923828125\n",
      "INFO - 04/19/21 17:05:54 - 3 days, 21:45:06 - Getting original features\n"
     ]
    },
    {
     "data": {
      "application/vnd.jupyter.widget-view+json": {
       "model_id": "b17808c1b87c4aa7aade8a5d4444b962",
       "version_major": 2,
       "version_minor": 0
      },
      "text/plain": [
       "HBox(children=(FloatProgress(value=0.0), HTML(value='')))"
      ]
     },
     "metadata": {},
     "output_type": "display_data"
    },
    {
     "name": "stdout",
     "output_type": "stream",
     "text": [
      "\n",
      "INFO - 04/19/21 17:05:56 - 3 days, 21:45:08 - psnr: 28.728386477910803\n",
      "INFO - 04/19/21 17:05:56 - 3 days, 21:45:08 - ft_direction: 6.094571113586426\n",
      "INFO - 04/19/21 17:05:56 - 3 days, 21:45:08 - ft_norm: 30.469715118408203\n",
      "INFO - 04/19/21 17:05:56 - 3 days, 21:45:08 - rho: -1\n",
      "INFO - 04/19/21 17:05:56 - 3 days, 21:45:08 - R: -30221.47265625\n",
      "INFO - 04/19/21 17:05:57 - 3 days, 21:45:08 - Getting original features\n"
     ]
    },
    {
     "data": {
      "application/vnd.jupyter.widget-view+json": {
       "model_id": "b11d4c5ce6d346fd8a6e9f4f37b6b5ef",
       "version_major": 2,
       "version_minor": 0
      },
      "text/plain": [
       "HBox(children=(FloatProgress(value=0.0), HTML(value='')))"
      ]
     },
     "metadata": {},
     "output_type": "display_data"
    },
    {
     "name": "stdout",
     "output_type": "stream",
     "text": [
      "\n",
      "INFO - 04/19/21 17:05:59 - 3 days, 21:45:11 - psnr: 28.736378641211317\n",
      "INFO - 04/19/21 17:05:59 - 3 days, 21:45:11 - ft_direction: 5.911007404327393\n",
      "INFO - 04/19/21 17:05:59 - 3 days, 21:45:11 - ft_norm: 30.068008422851562\n",
      "INFO - 04/19/21 17:05:59 - 3 days, 21:45:11 - rho: -1\n",
      "INFO - 04/19/21 17:05:59 - 3 days, 21:45:11 - R: -29372.525390625\n",
      "INFO - 04/19/21 17:06:00 - 3 days, 21:45:11 - Getting original features\n"
     ]
    },
    {
     "data": {
      "application/vnd.jupyter.widget-view+json": {
       "model_id": "2f4dbf33a49d4521bd668413f2e7b3e2",
       "version_major": 2,
       "version_minor": 0
      },
      "text/plain": [
       "HBox(children=(FloatProgress(value=0.0), HTML(value='')))"
      ]
     },
     "metadata": {},
     "output_type": "display_data"
    },
    {
     "name": "stdout",
     "output_type": "stream",
     "text": [
      "\n",
      "INFO - 04/19/21 17:06:02 - 3 days, 21:45:13 - psnr: 28.78062730410032\n",
      "INFO - 04/19/21 17:06:02 - 3 days, 21:45:13 - ft_direction: 5.803061485290527\n",
      "INFO - 04/19/21 17:06:02 - 3 days, 21:45:13 - ft_norm: 29.16241455078125\n",
      "INFO - 04/19/21 17:06:02 - 3 days, 21:45:13 - rho: -1\n",
      "INFO - 04/19/21 17:06:02 - 3 days, 21:45:13 - R: -28060.466796875\n",
      "INFO - 04/19/21 17:06:02 - 3 days, 21:45:14 - Getting original features\n"
     ]
    },
    {
     "data": {
      "application/vnd.jupyter.widget-view+json": {
       "model_id": "560d71af46984f83958c5e73f5a53a0d",
       "version_major": 2,
       "version_minor": 0
      },
      "text/plain": [
       "HBox(children=(FloatProgress(value=0.0), HTML(value='')))"
      ]
     },
     "metadata": {},
     "output_type": "display_data"
    },
    {
     "name": "stdout",
     "output_type": "stream",
     "text": [
      "\n",
      "INFO - 04/19/21 17:06:04 - 3 days, 21:45:16 - psnr: 28.780277350329683\n",
      "INFO - 04/19/21 17:06:04 - 3 days, 21:45:16 - ft_direction: 6.060686111450195\n",
      "INFO - 04/19/21 17:06:04 - 3 days, 21:45:16 - ft_norm: 29.509098052978516\n",
      "INFO - 04/19/21 17:06:04 - 3 days, 21:45:16 - rho: -1\n",
      "INFO - 04/19/21 17:06:04 - 3 days, 21:45:16 - R: -28301.5625\n",
      "INFO - 04/19/21 17:06:05 - 3 days, 21:45:17 - Getting original features\n"
     ]
    },
    {
     "data": {
      "application/vnd.jupyter.widget-view+json": {
       "model_id": "43c1cc6a5b2742f481b7a27eb22dc976",
       "version_major": 2,
       "version_minor": 0
      },
      "text/plain": [
       "HBox(children=(FloatProgress(value=0.0), HTML(value='')))"
      ]
     },
     "metadata": {},
     "output_type": "display_data"
    },
    {
     "name": "stdout",
     "output_type": "stream",
     "text": [
      "\n",
      "INFO - 04/19/21 17:06:07 - 3 days, 21:45:19 - psnr: 28.747992047452257\n",
      "INFO - 04/19/21 17:06:07 - 3 days, 21:45:19 - ft_direction: 6.103325843811035\n",
      "INFO - 04/19/21 17:06:07 - 3 days, 21:45:19 - ft_norm: 30.732141494750977\n",
      "INFO - 04/19/21 17:06:07 - 3 days, 21:45:19 - rho: -1\n",
      "INFO - 04/19/21 17:06:07 - 3 days, 21:45:19 - R: -30908.58984375\n",
      "INFO - 04/19/21 17:06:07 - 3 days, 21:45:19 - Getting original features\n"
     ]
    },
    {
     "data": {
      "application/vnd.jupyter.widget-view+json": {
       "model_id": "7304b566ad5a4d14b0c13e2aea3e4633",
       "version_major": 2,
       "version_minor": 0
      },
      "text/plain": [
       "HBox(children=(FloatProgress(value=0.0), HTML(value='')))"
      ]
     },
     "metadata": {},
     "output_type": "display_data"
    },
    {
     "name": "stdout",
     "output_type": "stream",
     "text": [
      "\n",
      "INFO - 04/19/21 17:06:10 - 3 days, 21:45:21 - psnr: 28.70777850725584\n",
      "INFO - 04/19/21 17:06:10 - 3 days, 21:45:21 - ft_direction: 5.6229400634765625\n",
      "INFO - 04/19/21 17:06:10 - 3 days, 21:45:21 - ft_norm: 28.33430290222168\n",
      "INFO - 04/19/21 17:06:10 - 3 days, 21:45:21 - rho: -1\n",
      "INFO - 04/19/21 17:06:10 - 3 days, 21:45:21 - R: -26182.5625\n",
      "INFO - 04/19/21 17:06:10 - 3 days, 21:45:22 - Getting original features\n"
     ]
    },
    {
     "data": {
      "application/vnd.jupyter.widget-view+json": {
       "model_id": "ed549d3b572a466f9db30a586d3b4788",
       "version_major": 2,
       "version_minor": 0
      },
      "text/plain": [
       "HBox(children=(FloatProgress(value=0.0), HTML(value='')))"
      ]
     },
     "metadata": {},
     "output_type": "display_data"
    },
    {
     "name": "stdout",
     "output_type": "stream",
     "text": [
      "\n",
      "INFO - 04/19/21 17:06:12 - 3 days, 21:45:24 - psnr: 28.731625617825316\n",
      "INFO - 04/19/21 17:06:12 - 3 days, 21:45:24 - ft_direction: 5.726820945739746\n",
      "INFO - 04/19/21 17:06:12 - 3 days, 21:45:24 - ft_norm: 29.89600372314453\n",
      "INFO - 04/19/21 17:06:12 - 3 days, 21:45:24 - rho: -1\n",
      "INFO - 04/19/21 17:06:12 - 3 days, 21:45:24 - R: -29461.4765625\n",
      "INFO - 04/19/21 17:06:13 - 3 days, 21:45:24 - Getting original features\n"
     ]
    },
    {
     "data": {
      "application/vnd.jupyter.widget-view+json": {
       "model_id": "35b42262f86e46d882ce47427877cab1",
       "version_major": 2,
       "version_minor": 0
      },
      "text/plain": [
       "HBox(children=(FloatProgress(value=0.0), HTML(value='')))"
      ]
     },
     "metadata": {},
     "output_type": "display_data"
    },
    {
     "name": "stdout",
     "output_type": "stream",
     "text": [
      "\n",
      "INFO - 04/19/21 17:06:14 - 3 days, 21:45:26 - psnr: 28.680427694105436\n",
      "INFO - 04/19/21 17:06:14 - 3 days, 21:45:26 - ft_direction: 5.85225772857666\n",
      "INFO - 04/19/21 17:06:14 - 3 days, 21:45:26 - ft_norm: 28.58684730529785\n",
      "INFO - 04/19/21 17:06:14 - 3 days, 21:45:26 - rho: -1\n",
      "INFO - 04/19/21 17:06:14 - 3 days, 21:45:26 - R: -16882.9375\n"
     ]
    }
   ],
   "source": [
    "%run make_data_radioactive.py"
   ]
  },
  {
   "cell_type": "markdown",
   "metadata": {},
   "source": [
    "<p>Once this is done, inspect the TensorBoard to examine the loss for each batch and view both the original randomly selected images and their marked versions. Tensorboard logs are saved in the <em>runs</em> directory.</p>\n",
    "<p>Simply run \"tensorboard --logdir runs\" from the repo root, and navigate to <a target=\"_blank\" href=\"http://localhost:6006\">http://localhost:6006</a></p>"
   ]
  },
  {
   "cell_type": "markdown",
   "metadata": {},
   "source": [
    "<h1>Training A Model</h1>\n",
    "<p>This is self-contained within <strong>train_marked_classifier.py</strong></p>\n",
    "\n",
    "<p>It is pre-configured with the relative directory paths from the marking phase.</p>\n",
    "\n",
    "<p>In this phase we take our marked CIFAR10 images from the previous step and merge them into the CIFAR10 training set using a dataloader wrapper. We then use this merged dataset to train a fresh resnet18.</p>\n",
    "\n",
    "<p>The only difference between this and our normal resnet18 CIFAR10 example is we created a custom class <em>MergedDataset</em> that takes a standard dataset, merging dataset and a list of indexes indicating which original examples the merge dataset indexes should replace</p>\n",
    "\n",
    "<p>The code is set to train for 60 epochs, taking about 15 minutes on a 980ti. We originally ran to 150 epochs, but overfitting starts to occur around 60. While you wait, detailed training information will show up in the TensorBoard under the <em>trained_marked_classifier</em> tag.</p>"
   ]
  },
  {
   "cell_type": "code",
   "execution_count": 2,
   "metadata": {},
   "outputs": [
    {
     "name": "stdout",
     "output_type": "stream",
     "text": [
      "INFO - 04/15/21 21:20:46 - 1:59:57 - CUDA Available? True\n",
      "Files already downloaded and verified\n",
      "INFO - 04/15/21 21:20:47 - 1:59:59 - There are 500 merged examples in this dataset (1.00%)\n",
      "INFO - 04/15/21 21:20:47 - 1:59:59 - Epoch Count: 60\n",
      "INFO - 04/15/21 21:20:47 - 1:59:59 - No checkpoint found, starting from scratch.\n",
      "INFO - 04/15/21 21:20:47 - 1:59:59 - Commence EPOCH 0\n"
     ]
    },
    {
     "data": {
      "application/vnd.jupyter.widget-view+json": {
       "model_id": "364c845fe00c44cfb41adf191dc0c010",
       "version_major": 2,
       "version_minor": 0
      },
      "text/plain": [
       "HBox(children=(FloatProgress(value=0.0, description='Training', max=98.0, style=ProgressStyle(description_widt…"
      ]
     },
     "metadata": {},
     "output_type": "display_data"
    },
    {
     "name": "stdout",
     "output_type": "stream",
     "text": [
      "\n"
     ]
    },
    {
     "data": {
      "application/vnd.jupyter.widget-view+json": {
       "model_id": "744f3150bdf84a12abfd940933a07185",
       "version_major": 2,
       "version_minor": 0
      },
      "text/plain": [
       "HBox(children=(FloatProgress(value=0.0, description='Testing', max=20.0, style=ProgressStyle(description_width…"
      ]
     },
     "metadata": {},
     "output_type": "display_data"
    },
    {
     "name": "stdout",
     "output_type": "stream",
     "text": [
      "\n",
      "INFO - 04/15/21 21:21:05 - 2:00:17 - Saving checkpoint.\n",
      "INFO - 04/15/21 21:21:05 - 2:00:17 - End of epoch 0, took 18.2987 seconds.\n",
      "INFO - 04/15/21 21:21:05 - 2:00:17 - Average Train Loss: 0.002763536060228944\n",
      "INFO - 04/15/21 21:21:05 - 2:00:17 - Top-1 Train Accuracy: 49.0\n",
      "INFO - 04/15/21 21:21:05 - 2:00:17 - Top-1 Test Accuracy: 53.1\n",
      "INFO - 04/15/21 21:21:05 - 2:00:17 - Commence EPOCH 1\n"
     ]
    },
    {
     "data": {
      "application/vnd.jupyter.widget-view+json": {
       "model_id": "344825ed58734549bd901fe7b2345b49",
       "version_major": 2,
       "version_minor": 0
      },
      "text/plain": [
       "HBox(children=(FloatProgress(value=0.0, description='Training', max=98.0, style=ProgressStyle(description_widt…"
      ]
     },
     "metadata": {},
     "output_type": "display_data"
    },
    {
     "name": "stdout",
     "output_type": "stream",
     "text": [
      "\n"
     ]
    },
    {
     "data": {
      "application/vnd.jupyter.widget-view+json": {
       "model_id": "f8ed0c9637cf45489afbf2512f921c90",
       "version_major": 2,
       "version_minor": 0
      },
      "text/plain": [
       "HBox(children=(FloatProgress(value=0.0, description='Testing', max=20.0, style=ProgressStyle(description_width…"
      ]
     },
     "metadata": {},
     "output_type": "display_data"
    },
    {
     "name": "stdout",
     "output_type": "stream",
     "text": [
      "\n",
      "INFO - 04/15/21 21:21:22 - 2:00:34 - Saving checkpoint.\n",
      "INFO - 04/15/21 21:21:23 - 2:00:34 - End of epoch 1, took 17.3088 seconds.\n",
      "INFO - 04/15/21 21:21:23 - 2:00:34 - Average Train Loss: 0.001959256362169981\n",
      "INFO - 04/15/21 21:21:23 - 2:00:34 - Top-1 Train Accuracy: 64.486\n",
      "INFO - 04/15/21 21:21:23 - 2:00:34 - Top-1 Test Accuracy: 61.69\n",
      "INFO - 04/15/21 21:21:23 - 2:00:34 - Commence EPOCH 2\n"
     ]
    },
    {
     "data": {
      "application/vnd.jupyter.widget-view+json": {
       "model_id": "89fcbbdc2dd24161a917ae1a34776dc2",
       "version_major": 2,
       "version_minor": 0
      },
      "text/plain": [
       "HBox(children=(FloatProgress(value=0.0, description='Training', max=98.0, style=ProgressStyle(description_widt…"
      ]
     },
     "metadata": {},
     "output_type": "display_data"
    },
    {
     "name": "stdout",
     "output_type": "stream",
     "text": [
      "\n"
     ]
    },
    {
     "data": {
      "application/vnd.jupyter.widget-view+json": {
       "model_id": "941c45f6744742e2bac92884bc8d4a5f",
       "version_major": 2,
       "version_minor": 0
      },
      "text/plain": [
       "HBox(children=(FloatProgress(value=0.0, description='Testing', max=20.0, style=ProgressStyle(description_width…"
      ]
     },
     "metadata": {},
     "output_type": "display_data"
    },
    {
     "name": "stdout",
     "output_type": "stream",
     "text": [
      "\n",
      "INFO - 04/15/21 21:21:40 - 2:00:52 - Saving checkpoint.\n",
      "INFO - 04/15/21 21:21:40 - 2:00:52 - End of epoch 2, took 17.4748 seconds.\n",
      "INFO - 04/15/21 21:21:40 - 2:00:52 - Average Train Loss: 0.0015526855131611228\n",
      "INFO - 04/15/21 21:21:40 - 2:00:52 - Top-1 Train Accuracy: 72.062\n",
      "INFO - 04/15/21 21:21:40 - 2:00:52 - Top-1 Test Accuracy: 66.1\n",
      "INFO - 04/15/21 21:21:40 - 2:00:52 - Commence EPOCH 3\n"
     ]
    },
    {
     "data": {
      "application/vnd.jupyter.widget-view+json": {
       "model_id": "34cfe7d79b07492f88c8e0daea5af23a",
       "version_major": 2,
       "version_minor": 0
      },
      "text/plain": [
       "HBox(children=(FloatProgress(value=0.0, description='Training', max=98.0, style=ProgressStyle(description_widt…"
      ]
     },
     "metadata": {},
     "output_type": "display_data"
    },
    {
     "name": "stdout",
     "output_type": "stream",
     "text": [
      "\n"
     ]
    },
    {
     "data": {
      "application/vnd.jupyter.widget-view+json": {
       "model_id": "a1a2faa96c664fa78a8331e57c5d6fa2",
       "version_major": 2,
       "version_minor": 0
      },
      "text/plain": [
       "HBox(children=(FloatProgress(value=0.0, description='Testing', max=20.0, style=ProgressStyle(description_width…"
      ]
     },
     "metadata": {},
     "output_type": "display_data"
    },
    {
     "name": "stdout",
     "output_type": "stream",
     "text": [
      "\n",
      "INFO - 04/15/21 21:21:57 - 2:01:09 - Saving checkpoint.\n",
      "INFO - 04/15/21 21:21:58 - 2:01:09 - End of epoch 3, took 17.4378 seconds.\n",
      "INFO - 04/15/21 21:21:58 - 2:01:09 - Average Train Loss: 0.0012737046927213669\n",
      "INFO - 04/15/21 21:21:58 - 2:01:09 - Top-1 Train Accuracy: 77.066\n",
      "INFO - 04/15/21 21:21:58 - 2:01:09 - Top-1 Test Accuracy: 70.13\n",
      "INFO - 04/15/21 21:21:58 - 2:01:09 - Commence EPOCH 4\n"
     ]
    },
    {
     "data": {
      "application/vnd.jupyter.widget-view+json": {
       "model_id": "5429901228874a1e95e64bd78c51ed9c",
       "version_major": 2,
       "version_minor": 0
      },
      "text/plain": [
       "HBox(children=(FloatProgress(value=0.0, description='Training', max=98.0, style=ProgressStyle(description_widt…"
      ]
     },
     "metadata": {},
     "output_type": "display_data"
    },
    {
     "name": "stdout",
     "output_type": "stream",
     "text": [
      "\n"
     ]
    },
    {
     "data": {
      "application/vnd.jupyter.widget-view+json": {
       "model_id": "9d3183c1e0f448ac9d737dd490b14e3c",
       "version_major": 2,
       "version_minor": 0
      },
      "text/plain": [
       "HBox(children=(FloatProgress(value=0.0, description='Testing', max=20.0, style=ProgressStyle(description_width…"
      ]
     },
     "metadata": {},
     "output_type": "display_data"
    },
    {
     "name": "stdout",
     "output_type": "stream",
     "text": [
      "\n",
      "INFO - 04/15/21 21:22:15 - 2:01:27 - Saving checkpoint.\n",
      "INFO - 04/15/21 21:22:15 - 2:01:27 - End of epoch 4, took 17.5802 seconds.\n",
      "INFO - 04/15/21 21:22:15 - 2:01:27 - Average Train Loss: 0.0010415908182039857\n",
      "INFO - 04/15/21 21:22:15 - 2:01:27 - Top-1 Train Accuracy: 81.314\n",
      "INFO - 04/15/21 21:22:15 - 2:01:27 - Top-1 Test Accuracy: 70.54\n",
      "INFO - 04/15/21 21:22:15 - 2:01:27 - Commence EPOCH 5\n"
     ]
    },
    {
     "data": {
      "application/vnd.jupyter.widget-view+json": {
       "model_id": "4836d754e9a941dfb1210c38bbfd6977",
       "version_major": 2,
       "version_minor": 0
      },
      "text/plain": [
       "HBox(children=(FloatProgress(value=0.0, description='Training', max=98.0, style=ProgressStyle(description_widt…"
      ]
     },
     "metadata": {},
     "output_type": "display_data"
    },
    {
     "name": "stdout",
     "output_type": "stream",
     "text": [
      "\n"
     ]
    },
    {
     "data": {
      "application/vnd.jupyter.widget-view+json": {
       "model_id": "104b7fb8d0ba40a3aaf8b992f3a4a52b",
       "version_major": 2,
       "version_minor": 0
      },
      "text/plain": [
       "HBox(children=(FloatProgress(value=0.0, description='Testing', max=20.0, style=ProgressStyle(description_width…"
      ]
     },
     "metadata": {},
     "output_type": "display_data"
    },
    {
     "name": "stdout",
     "output_type": "stream",
     "text": [
      "\n",
      "INFO - 04/15/21 21:22:33 - 2:01:44 - Saving checkpoint.\n",
      "INFO - 04/15/21 21:22:33 - 2:01:45 - End of epoch 5, took 17.7953 seconds.\n",
      "INFO - 04/15/21 21:22:33 - 2:01:45 - Average Train Loss: 0.0008423640392720699\n",
      "INFO - 04/15/21 21:22:33 - 2:01:45 - Top-1 Train Accuracy: 84.828\n",
      "INFO - 04/15/21 21:22:33 - 2:01:45 - Top-1 Test Accuracy: 69.7\n",
      "INFO - 04/15/21 21:22:33 - 2:01:45 - Commence EPOCH 6\n"
     ]
    },
    {
     "data": {
      "application/vnd.jupyter.widget-view+json": {
       "model_id": "3d921844ca7344de8061ea7ecc3bfaeb",
       "version_major": 2,
       "version_minor": 0
      },
      "text/plain": [
       "HBox(children=(FloatProgress(value=0.0, description='Training', max=98.0, style=ProgressStyle(description_widt…"
      ]
     },
     "metadata": {},
     "output_type": "display_data"
    },
    {
     "name": "stdout",
     "output_type": "stream",
     "text": [
      "\n"
     ]
    },
    {
     "data": {
      "application/vnd.jupyter.widget-view+json": {
       "model_id": "97f03f9a54544811ab73d7222b5d206c",
       "version_major": 2,
       "version_minor": 0
      },
      "text/plain": [
       "HBox(children=(FloatProgress(value=0.0, description='Testing', max=20.0, style=ProgressStyle(description_width…"
      ]
     },
     "metadata": {},
     "output_type": "display_data"
    },
    {
     "name": "stdout",
     "output_type": "stream",
     "text": [
      "\n",
      "INFO - 04/15/21 21:22:50 - 2:02:02 - Saving checkpoint.\n",
      "INFO - 04/15/21 21:22:51 - 2:02:03 - End of epoch 6, took 17.8132 seconds.\n",
      "INFO - 04/15/21 21:22:51 - 2:02:03 - Average Train Loss: 0.0006605036905966699\n",
      "INFO - 04/15/21 21:22:51 - 2:02:03 - Top-1 Train Accuracy: 88.124\n",
      "INFO - 04/15/21 21:22:51 - 2:02:03 - Top-1 Test Accuracy: 70.87\n",
      "INFO - 04/15/21 21:22:51 - 2:02:03 - Commence EPOCH 7\n"
     ]
    },
    {
     "data": {
      "application/vnd.jupyter.widget-view+json": {
       "model_id": "bf3085fe3164425eacfa9063b72eefba",
       "version_major": 2,
       "version_minor": 0
      },
      "text/plain": [
       "HBox(children=(FloatProgress(value=0.0, description='Training', max=98.0, style=ProgressStyle(description_widt…"
      ]
     },
     "metadata": {},
     "output_type": "display_data"
    },
    {
     "name": "stdout",
     "output_type": "stream",
     "text": [
      "\n"
     ]
    },
    {
     "data": {
      "application/vnd.jupyter.widget-view+json": {
       "model_id": "a5f7d41680b14040ad808109553df10a",
       "version_major": 2,
       "version_minor": 0
      },
      "text/plain": [
       "HBox(children=(FloatProgress(value=0.0, description='Testing', max=20.0, style=ProgressStyle(description_width…"
      ]
     },
     "metadata": {},
     "output_type": "display_data"
    },
    {
     "name": "stdout",
     "output_type": "stream",
     "text": [
      "\n",
      "INFO - 04/15/21 21:23:08 - 2:02:20 - Saving checkpoint.\n",
      "INFO - 04/15/21 21:23:09 - 2:02:20 - End of epoch 7, took 17.6314 seconds.\n",
      "INFO - 04/15/21 21:23:09 - 2:02:20 - Average Train Loss: 0.0005240871105343103\n",
      "INFO - 04/15/21 21:23:09 - 2:02:20 - Top-1 Train Accuracy: 90.45\n",
      "INFO - 04/15/21 21:23:09 - 2:02:20 - Top-1 Test Accuracy: 68.45\n",
      "INFO - 04/15/21 21:23:09 - 2:02:20 - Commence EPOCH 8\n"
     ]
    },
    {
     "data": {
      "application/vnd.jupyter.widget-view+json": {
       "model_id": "2984a022b8044df5839a255c8ce1c592",
       "version_major": 2,
       "version_minor": 0
      },
      "text/plain": [
       "HBox(children=(FloatProgress(value=0.0, description='Training', max=98.0, style=ProgressStyle(description_widt…"
      ]
     },
     "metadata": {},
     "output_type": "display_data"
    },
    {
     "name": "stdout",
     "output_type": "stream",
     "text": [
      "\n"
     ]
    },
    {
     "data": {
      "application/vnd.jupyter.widget-view+json": {
       "model_id": "fb8080df58b4451f8c244364b1ccf713",
       "version_major": 2,
       "version_minor": 0
      },
      "text/plain": [
       "HBox(children=(FloatProgress(value=0.0, description='Testing', max=20.0, style=ProgressStyle(description_width…"
      ]
     },
     "metadata": {},
     "output_type": "display_data"
    },
    {
     "name": "stdout",
     "output_type": "stream",
     "text": [
      "\n",
      "INFO - 04/15/21 21:23:26 - 2:02:37 - Saving checkpoint.\n",
      "INFO - 04/15/21 21:23:26 - 2:02:38 - End of epoch 8, took 17.5562 seconds.\n",
      "INFO - 04/15/21 21:23:26 - 2:02:38 - Average Train Loss: 0.0004338932631071657\n",
      "INFO - 04/15/21 21:23:26 - 2:02:38 - Top-1 Train Accuracy: 92.114\n",
      "INFO - 04/15/21 21:23:26 - 2:02:38 - Top-1 Test Accuracy: 70.7\n",
      "INFO - 04/15/21 21:23:26 - 2:02:38 - Commence EPOCH 9\n"
     ]
    },
    {
     "data": {
      "application/vnd.jupyter.widget-view+json": {
       "model_id": "96792ced976b4b0ea6b9f83e5c41ce37",
       "version_major": 2,
       "version_minor": 0
      },
      "text/plain": [
       "HBox(children=(FloatProgress(value=0.0, description='Training', max=98.0, style=ProgressStyle(description_widt…"
      ]
     },
     "metadata": {},
     "output_type": "display_data"
    },
    {
     "name": "stdout",
     "output_type": "stream",
     "text": [
      "\n"
     ]
    },
    {
     "data": {
      "application/vnd.jupyter.widget-view+json": {
       "model_id": "fc03cffbd68b46edb8c391bcd7ff1435",
       "version_major": 2,
       "version_minor": 0
      },
      "text/plain": [
       "HBox(children=(FloatProgress(value=0.0, description='Testing', max=20.0, style=ProgressStyle(description_width…"
      ]
     },
     "metadata": {},
     "output_type": "display_data"
    },
    {
     "name": "stdout",
     "output_type": "stream",
     "text": [
      "\n",
      "INFO - 04/15/21 21:23:43 - 2:02:55 - Saving checkpoint.\n",
      "INFO - 04/15/21 21:23:44 - 2:02:55 - End of epoch 9, took 17.4870 seconds.\n",
      "INFO - 04/15/21 21:23:44 - 2:02:55 - Average Train Loss: 0.0003252846945542842\n",
      "INFO - 04/15/21 21:23:44 - 2:02:55 - Top-1 Train Accuracy: 93.996\n",
      "INFO - 04/15/21 21:23:44 - 2:02:55 - Top-1 Test Accuracy: 70.47\n",
      "INFO - 04/15/21 21:23:44 - 2:02:55 - Commence EPOCH 10\n"
     ]
    },
    {
     "data": {
      "application/vnd.jupyter.widget-view+json": {
       "model_id": "ff91b605e112468da8f03596b6df2484",
       "version_major": 2,
       "version_minor": 0
      },
      "text/plain": [
       "HBox(children=(FloatProgress(value=0.0, description='Training', max=98.0, style=ProgressStyle(description_widt…"
      ]
     },
     "metadata": {},
     "output_type": "display_data"
    },
    {
     "name": "stdout",
     "output_type": "stream",
     "text": [
      "\n"
     ]
    },
    {
     "data": {
      "application/vnd.jupyter.widget-view+json": {
       "model_id": "2a4a7b36efea4a5393a1302828887794",
       "version_major": 2,
       "version_minor": 0
      },
      "text/plain": [
       "HBox(children=(FloatProgress(value=0.0, description='Testing', max=20.0, style=ProgressStyle(description_width…"
      ]
     },
     "metadata": {},
     "output_type": "display_data"
    },
    {
     "name": "stdout",
     "output_type": "stream",
     "text": [
      "\n",
      "INFO - 04/15/21 21:24:01 - 2:03:12 - Saving checkpoint.\n",
      "INFO - 04/15/21 21:24:01 - 2:03:13 - End of epoch 10, took 17.4400 seconds.\n",
      "INFO - 04/15/21 21:24:01 - 2:03:13 - Average Train Loss: 0.00027392295305617154\n",
      "INFO - 04/15/21 21:24:01 - 2:03:13 - Top-1 Train Accuracy: 95.042\n",
      "INFO - 04/15/21 21:24:01 - 2:03:13 - Top-1 Test Accuracy: 69.07\n",
      "INFO - 04/15/21 21:24:01 - 2:03:13 - Commence EPOCH 11\n"
     ]
    },
    {
     "data": {
      "application/vnd.jupyter.widget-view+json": {
       "model_id": "798a8d32e6c44176b48d34a045daf7a8",
       "version_major": 2,
       "version_minor": 0
      },
      "text/plain": [
       "HBox(children=(FloatProgress(value=0.0, description='Training', max=98.0, style=ProgressStyle(description_widt…"
      ]
     },
     "metadata": {},
     "output_type": "display_data"
    },
    {
     "name": "stdout",
     "output_type": "stream",
     "text": [
      "\n"
     ]
    },
    {
     "data": {
      "application/vnd.jupyter.widget-view+json": {
       "model_id": "7539e1eddcd841ce8cbbd31e29b3423f",
       "version_major": 2,
       "version_minor": 0
      },
      "text/plain": [
       "HBox(children=(FloatProgress(value=0.0, description='Testing', max=20.0, style=ProgressStyle(description_width…"
      ]
     },
     "metadata": {},
     "output_type": "display_data"
    },
    {
     "name": "stdout",
     "output_type": "stream",
     "text": [
      "\n",
      "INFO - 04/15/21 21:24:18 - 2:03:30 - Saving checkpoint.\n",
      "INFO - 04/15/21 21:24:19 - 2:03:30 - End of epoch 11, took 17.6480 seconds.\n",
      "INFO - 04/15/21 21:24:19 - 2:03:30 - Average Train Loss: 0.00025810592342168093\n",
      "INFO - 04/15/21 21:24:19 - 2:03:30 - Top-1 Train Accuracy: 95.326\n",
      "INFO - 04/15/21 21:24:19 - 2:03:30 - Top-1 Test Accuracy: 70.3\n",
      "INFO - 04/15/21 21:24:19 - 2:03:30 - Commence EPOCH 12\n"
     ]
    },
    {
     "data": {
      "application/vnd.jupyter.widget-view+json": {
       "model_id": "b22010c5b47942daad19a5b7de367181",
       "version_major": 2,
       "version_minor": 0
      },
      "text/plain": [
       "HBox(children=(FloatProgress(value=0.0, description='Training', max=98.0, style=ProgressStyle(description_widt…"
      ]
     },
     "metadata": {},
     "output_type": "display_data"
    },
    {
     "name": "stdout",
     "output_type": "stream",
     "text": [
      "\n"
     ]
    },
    {
     "data": {
      "application/vnd.jupyter.widget-view+json": {
       "model_id": "824ac858d05c4e2687e3b92425a6d4f9",
       "version_major": 2,
       "version_minor": 0
      },
      "text/plain": [
       "HBox(children=(FloatProgress(value=0.0, description='Testing', max=20.0, style=ProgressStyle(description_width…"
      ]
     },
     "metadata": {},
     "output_type": "display_data"
    },
    {
     "name": "stdout",
     "output_type": "stream",
     "text": [
      "\n",
      "INFO - 04/15/21 21:24:36 - 2:03:48 - Saving checkpoint.\n",
      "INFO - 04/15/21 21:24:36 - 2:03:48 - End of epoch 12, took 17.6424 seconds.\n",
      "INFO - 04/15/21 21:24:36 - 2:03:48 - Average Train Loss: 0.0002249290409963578\n",
      "INFO - 04/15/21 21:24:36 - 2:03:48 - Top-1 Train Accuracy: 95.928\n",
      "INFO - 04/15/21 21:24:36 - 2:03:48 - Top-1 Test Accuracy: 71.05\n",
      "INFO - 04/15/21 21:24:36 - 2:03:48 - Commence EPOCH 13\n"
     ]
    },
    {
     "data": {
      "application/vnd.jupyter.widget-view+json": {
       "model_id": "1688a70906ed456380dafd11e38161b4",
       "version_major": 2,
       "version_minor": 0
      },
      "text/plain": [
       "HBox(children=(FloatProgress(value=0.0, description='Training', max=98.0, style=ProgressStyle(description_widt…"
      ]
     },
     "metadata": {},
     "output_type": "display_data"
    },
    {
     "name": "stdout",
     "output_type": "stream",
     "text": [
      "\n"
     ]
    },
    {
     "data": {
      "application/vnd.jupyter.widget-view+json": {
       "model_id": "6aab3594cabe4a3da6e2c0ed38514436",
       "version_major": 2,
       "version_minor": 0
      },
      "text/plain": [
       "HBox(children=(FloatProgress(value=0.0, description='Testing', max=20.0, style=ProgressStyle(description_width…"
      ]
     },
     "metadata": {},
     "output_type": "display_data"
    },
    {
     "name": "stdout",
     "output_type": "stream",
     "text": [
      "\n",
      "INFO - 04/15/21 21:24:53 - 2:04:05 - Saving checkpoint.\n",
      "INFO - 04/15/21 21:24:54 - 2:04:06 - End of epoch 13, took 17.5251 seconds.\n",
      "INFO - 04/15/21 21:24:54 - 2:04:06 - Average Train Loss: 0.00019443368364591151\n",
      "INFO - 04/15/21 21:24:54 - 2:04:06 - Top-1 Train Accuracy: 96.598\n",
      "INFO - 04/15/21 21:24:54 - 2:04:06 - Top-1 Test Accuracy: 71.86\n",
      "INFO - 04/15/21 21:24:54 - 2:04:06 - Commence EPOCH 14\n"
     ]
    },
    {
     "data": {
      "application/vnd.jupyter.widget-view+json": {
       "model_id": "50f4acc6f7ad4640b50cebf851efeeb1",
       "version_major": 2,
       "version_minor": 0
      },
      "text/plain": [
       "HBox(children=(FloatProgress(value=0.0, description='Training', max=98.0, style=ProgressStyle(description_widt…"
      ]
     },
     "metadata": {},
     "output_type": "display_data"
    },
    {
     "name": "stdout",
     "output_type": "stream",
     "text": [
      "\n"
     ]
    },
    {
     "data": {
      "application/vnd.jupyter.widget-view+json": {
       "model_id": "c77924a03ae94463b6bdeb559959b243",
       "version_major": 2,
       "version_minor": 0
      },
      "text/plain": [
       "HBox(children=(FloatProgress(value=0.0, description='Testing', max=20.0, style=ProgressStyle(description_width…"
      ]
     },
     "metadata": {},
     "output_type": "display_data"
    },
    {
     "name": "stdout",
     "output_type": "stream",
     "text": [
      "\n",
      "INFO - 04/15/21 21:25:11 - 2:04:22 - Saving checkpoint.\n",
      "INFO - 04/15/21 21:25:11 - 2:04:23 - End of epoch 14, took 17.4142 seconds.\n",
      "INFO - 04/15/21 21:25:11 - 2:04:23 - Average Train Loss: 0.00018207279208581895\n",
      "INFO - 04/15/21 21:25:11 - 2:04:23 - Top-1 Train Accuracy: 96.802\n",
      "INFO - 04/15/21 21:25:11 - 2:04:23 - Top-1 Test Accuracy: 72.16\n",
      "INFO - 04/15/21 21:25:11 - 2:04:23 - Commence EPOCH 15\n"
     ]
    },
    {
     "data": {
      "application/vnd.jupyter.widget-view+json": {
       "model_id": "3fc9d9344bf14a2c97a58d1e6ddaf5b5",
       "version_major": 2,
       "version_minor": 0
      },
      "text/plain": [
       "HBox(children=(FloatProgress(value=0.0, description='Training', max=98.0, style=ProgressStyle(description_widt…"
      ]
     },
     "metadata": {},
     "output_type": "display_data"
    },
    {
     "name": "stdout",
     "output_type": "stream",
     "text": [
      "\n"
     ]
    },
    {
     "data": {
      "application/vnd.jupyter.widget-view+json": {
       "model_id": "47a4b3e486444bb684f8a4fb2def291d",
       "version_major": 2,
       "version_minor": 0
      },
      "text/plain": [
       "HBox(children=(FloatProgress(value=0.0, description='Testing', max=20.0, style=ProgressStyle(description_width…"
      ]
     },
     "metadata": {},
     "output_type": "display_data"
    },
    {
     "name": "stdout",
     "output_type": "stream",
     "text": [
      "\n",
      "INFO - 04/15/21 21:25:29 - 2:04:40 - Saving checkpoint.\n",
      "INFO - 04/15/21 21:25:29 - 2:04:41 - End of epoch 15, took 17.9072 seconds.\n",
      "INFO - 04/15/21 21:25:29 - 2:04:41 - Average Train Loss: 0.00014610537618864328\n",
      "INFO - 04/15/21 21:25:29 - 2:04:41 - Top-1 Train Accuracy: 97.36\n",
      "INFO - 04/15/21 21:25:29 - 2:04:41 - Top-1 Test Accuracy: 72.79\n",
      "INFO - 04/15/21 21:25:29 - 2:04:41 - Commence EPOCH 16\n"
     ]
    },
    {
     "data": {
      "application/vnd.jupyter.widget-view+json": {
       "model_id": "94b650f5012b42198c8fda9158b8e062",
       "version_major": 2,
       "version_minor": 0
      },
      "text/plain": [
       "HBox(children=(FloatProgress(value=0.0, description='Training', max=98.0, style=ProgressStyle(description_widt…"
      ]
     },
     "metadata": {},
     "output_type": "display_data"
    },
    {
     "name": "stdout",
     "output_type": "stream",
     "text": [
      "\n"
     ]
    },
    {
     "data": {
      "application/vnd.jupyter.widget-view+json": {
       "model_id": "e3f3d1a6c2374f1b957f0bc469e2fae5",
       "version_major": 2,
       "version_minor": 0
      },
      "text/plain": [
       "HBox(children=(FloatProgress(value=0.0, description='Testing', max=20.0, style=ProgressStyle(description_width…"
      ]
     },
     "metadata": {},
     "output_type": "display_data"
    },
    {
     "name": "stdout",
     "output_type": "stream",
     "text": [
      "\n",
      "INFO - 04/15/21 21:25:46 - 2:04:58 - Saving checkpoint.\n",
      "INFO - 04/15/21 21:25:47 - 2:04:59 - End of epoch 16, took 17.8206 seconds.\n",
      "INFO - 04/15/21 21:25:47 - 2:04:59 - Average Train Loss: 0.00013091540313325822\n",
      "INFO - 04/15/21 21:25:47 - 2:04:59 - Top-1 Train Accuracy: 97.662\n",
      "INFO - 04/15/21 21:25:47 - 2:04:59 - Top-1 Test Accuracy: 70.03\n",
      "INFO - 04/15/21 21:25:47 - 2:04:59 - Commence EPOCH 17\n"
     ]
    },
    {
     "data": {
      "application/vnd.jupyter.widget-view+json": {
       "model_id": "45369e16718a4226ab4def4315aea0da",
       "version_major": 2,
       "version_minor": 0
      },
      "text/plain": [
       "HBox(children=(FloatProgress(value=0.0, description='Training', max=98.0, style=ProgressStyle(description_widt…"
      ]
     },
     "metadata": {},
     "output_type": "display_data"
    },
    {
     "name": "stdout",
     "output_type": "stream",
     "text": [
      "\n"
     ]
    },
    {
     "data": {
      "application/vnd.jupyter.widget-view+json": {
       "model_id": "f861bc1c48ee472ba7a3e12d73a2d64a",
       "version_major": 2,
       "version_minor": 0
      },
      "text/plain": [
       "HBox(children=(FloatProgress(value=0.0, description='Testing', max=20.0, style=ProgressStyle(description_width…"
      ]
     },
     "metadata": {},
     "output_type": "display_data"
    },
    {
     "name": "stdout",
     "output_type": "stream",
     "text": [
      "\n",
      "INFO - 04/15/21 21:26:04 - 2:05:16 - Saving checkpoint.\n",
      "INFO - 04/15/21 21:26:05 - 2:05:16 - End of epoch 17, took 17.7212 seconds.\n",
      "INFO - 04/15/21 21:26:05 - 2:05:16 - Average Train Loss: 0.0001226875901920721\n",
      "INFO - 04/15/21 21:26:05 - 2:05:16 - Top-1 Train Accuracy: 97.784\n",
      "INFO - 04/15/21 21:26:05 - 2:05:16 - Top-1 Test Accuracy: 73.14\n",
      "INFO - 04/15/21 21:26:05 - 2:05:16 - Commence EPOCH 18\n"
     ]
    },
    {
     "data": {
      "application/vnd.jupyter.widget-view+json": {
       "model_id": "abea7418651c4fca8afb9f33232484cb",
       "version_major": 2,
       "version_minor": 0
      },
      "text/plain": [
       "HBox(children=(FloatProgress(value=0.0, description='Training', max=98.0, style=ProgressStyle(description_widt…"
      ]
     },
     "metadata": {},
     "output_type": "display_data"
    },
    {
     "name": "stdout",
     "output_type": "stream",
     "text": [
      "\n"
     ]
    },
    {
     "data": {
      "application/vnd.jupyter.widget-view+json": {
       "model_id": "425ca079e00648ea89afcbbdfc1f3bdc",
       "version_major": 2,
       "version_minor": 0
      },
      "text/plain": [
       "HBox(children=(FloatProgress(value=0.0, description='Testing', max=20.0, style=ProgressStyle(description_width…"
      ]
     },
     "metadata": {},
     "output_type": "display_data"
    },
    {
     "name": "stdout",
     "output_type": "stream",
     "text": [
      "\n",
      "INFO - 04/15/21 21:26:22 - 2:05:34 - Saving checkpoint.\n",
      "INFO - 04/15/21 21:26:22 - 2:05:34 - End of epoch 18, took 17.7696 seconds.\n",
      "INFO - 04/15/21 21:26:22 - 2:05:34 - Average Train Loss: 0.00011768131662392989\n",
      "INFO - 04/15/21 21:26:22 - 2:05:34 - Top-1 Train Accuracy: 97.902\n",
      "INFO - 04/15/21 21:26:22 - 2:05:34 - Top-1 Test Accuracy: 71.61\n",
      "INFO - 04/15/21 21:26:22 - 2:05:34 - Commence EPOCH 19\n"
     ]
    },
    {
     "data": {
      "application/vnd.jupyter.widget-view+json": {
       "model_id": "f637911367854dd0a1ed994cc542019f",
       "version_major": 2,
       "version_minor": 0
      },
      "text/plain": [
       "HBox(children=(FloatProgress(value=0.0, description='Training', max=98.0, style=ProgressStyle(description_widt…"
      ]
     },
     "metadata": {},
     "output_type": "display_data"
    },
    {
     "name": "stdout",
     "output_type": "stream",
     "text": [
      "\n"
     ]
    },
    {
     "data": {
      "application/vnd.jupyter.widget-view+json": {
       "model_id": "ba048e21f12c49c5bd6ac1d4d7ecdcd2",
       "version_major": 2,
       "version_minor": 0
      },
      "text/plain": [
       "HBox(children=(FloatProgress(value=0.0, description='Testing', max=20.0, style=ProgressStyle(description_width…"
      ]
     },
     "metadata": {},
     "output_type": "display_data"
    },
    {
     "name": "stdout",
     "output_type": "stream",
     "text": [
      "\n",
      "INFO - 04/15/21 21:26:40 - 2:05:51 - Saving checkpoint.\n",
      "INFO - 04/15/21 21:26:40 - 2:05:52 - End of epoch 19, took 17.7605 seconds.\n",
      "INFO - 04/15/21 21:26:40 - 2:05:52 - Average Train Loss: 0.00011794539022957906\n",
      "INFO - 04/15/21 21:26:40 - 2:05:52 - Top-1 Train Accuracy: 97.83\n",
      "INFO - 04/15/21 21:26:40 - 2:05:52 - Top-1 Test Accuracy: 71.54\n",
      "INFO - 04/15/21 21:26:40 - 2:05:52 - Commence EPOCH 20\n"
     ]
    },
    {
     "data": {
      "application/vnd.jupyter.widget-view+json": {
       "model_id": "fd59eabb681741f28141f667337f50af",
       "version_major": 2,
       "version_minor": 0
      },
      "text/plain": [
       "HBox(children=(FloatProgress(value=0.0, description='Training', max=98.0, style=ProgressStyle(description_widt…"
      ]
     },
     "metadata": {},
     "output_type": "display_data"
    },
    {
     "name": "stdout",
     "output_type": "stream",
     "text": [
      "\n"
     ]
    },
    {
     "data": {
      "application/vnd.jupyter.widget-view+json": {
       "model_id": "f430ac8ad9ed46d2ac31fef7402a8a0b",
       "version_major": 2,
       "version_minor": 0
      },
      "text/plain": [
       "HBox(children=(FloatProgress(value=0.0, description='Testing', max=20.0, style=ProgressStyle(description_width…"
      ]
     },
     "metadata": {},
     "output_type": "display_data"
    },
    {
     "name": "stdout",
     "output_type": "stream",
     "text": [
      "\n",
      "INFO - 04/15/21 21:26:58 - 2:06:09 - Saving checkpoint.\n",
      "INFO - 04/15/21 21:26:58 - 2:06:10 - End of epoch 20, took 17.9670 seconds.\n",
      "INFO - 04/15/21 21:26:58 - 2:06:10 - Average Train Loss: 0.00011694429849740118\n",
      "INFO - 04/15/21 21:26:58 - 2:06:10 - Top-1 Train Accuracy: 97.952\n",
      "INFO - 04/15/21 21:26:58 - 2:06:10 - Top-1 Test Accuracy: 72.84\n",
      "INFO - 04/15/21 21:26:58 - 2:06:10 - Commence EPOCH 21\n"
     ]
    },
    {
     "data": {
      "application/vnd.jupyter.widget-view+json": {
       "model_id": "58805cf3711743c5bfd7210b18b30861",
       "version_major": 2,
       "version_minor": 0
      },
      "text/plain": [
       "HBox(children=(FloatProgress(value=0.0, description='Training', max=98.0, style=ProgressStyle(description_widt…"
      ]
     },
     "metadata": {},
     "output_type": "display_data"
    },
    {
     "name": "stdout",
     "output_type": "stream",
     "text": [
      "\n"
     ]
    },
    {
     "data": {
      "application/vnd.jupyter.widget-view+json": {
       "model_id": "b37910f0517346f285852d490e3376d2",
       "version_major": 2,
       "version_minor": 0
      },
      "text/plain": [
       "HBox(children=(FloatProgress(value=0.0, description='Testing', max=20.0, style=ProgressStyle(description_width…"
      ]
     },
     "metadata": {},
     "output_type": "display_data"
    },
    {
     "name": "stdout",
     "output_type": "stream",
     "text": [
      "\n",
      "INFO - 04/15/21 21:27:16 - 2:06:27 - Saving checkpoint.\n",
      "INFO - 04/15/21 21:27:16 - 2:06:28 - End of epoch 21, took 17.7945 seconds.\n",
      "INFO - 04/15/21 21:27:16 - 2:06:28 - Average Train Loss: 0.00011310526315355673\n",
      "INFO - 04/15/21 21:27:16 - 2:06:28 - Top-1 Train Accuracy: 97.99\n",
      "INFO - 04/15/21 21:27:16 - 2:06:28 - Top-1 Test Accuracy: 72.84\n",
      "INFO - 04/15/21 21:27:16 - 2:06:28 - Commence EPOCH 22\n"
     ]
    },
    {
     "data": {
      "application/vnd.jupyter.widget-view+json": {
       "model_id": "5e662d98d5ee44539bba143b81ee4948",
       "version_major": 2,
       "version_minor": 0
      },
      "text/plain": [
       "HBox(children=(FloatProgress(value=0.0, description='Training', max=98.0, style=ProgressStyle(description_widt…"
      ]
     },
     "metadata": {},
     "output_type": "display_data"
    },
    {
     "name": "stdout",
     "output_type": "stream",
     "text": [
      "\n"
     ]
    },
    {
     "data": {
      "application/vnd.jupyter.widget-view+json": {
       "model_id": "1c4355a18f6541fba66458daa4d11196",
       "version_major": 2,
       "version_minor": 0
      },
      "text/plain": [
       "HBox(children=(FloatProgress(value=0.0, description='Testing', max=20.0, style=ProgressStyle(description_width…"
      ]
     },
     "metadata": {},
     "output_type": "display_data"
    },
    {
     "name": "stdout",
     "output_type": "stream",
     "text": [
      "\n",
      "INFO - 04/15/21 21:27:33 - 2:06:45 - Saving checkpoint.\n",
      "INFO - 04/15/21 21:27:34 - 2:06:46 - End of epoch 22, took 18.0548 seconds.\n",
      "INFO - 04/15/21 21:27:34 - 2:06:46 - Average Train Loss: 9.885954932542518e-05\n",
      "INFO - 04/15/21 21:27:34 - 2:06:46 - Top-1 Train Accuracy: 98.244\n",
      "INFO - 04/15/21 21:27:34 - 2:06:46 - Top-1 Test Accuracy: 72.93\n",
      "INFO - 04/15/21 21:27:34 - 2:06:46 - Commence EPOCH 23\n"
     ]
    },
    {
     "data": {
      "application/vnd.jupyter.widget-view+json": {
       "model_id": "494981eb00e540bcb26ae59d8f7aec8e",
       "version_major": 2,
       "version_minor": 0
      },
      "text/plain": [
       "HBox(children=(FloatProgress(value=0.0, description='Training', max=98.0, style=ProgressStyle(description_widt…"
      ]
     },
     "metadata": {},
     "output_type": "display_data"
    },
    {
     "name": "stdout",
     "output_type": "stream",
     "text": [
      "\n"
     ]
    },
    {
     "data": {
      "application/vnd.jupyter.widget-view+json": {
       "model_id": "d0836a0a033a4a8e99b3ae928a70d6d6",
       "version_major": 2,
       "version_minor": 0
      },
      "text/plain": [
       "HBox(children=(FloatProgress(value=0.0, description='Testing', max=20.0, style=ProgressStyle(description_width…"
      ]
     },
     "metadata": {},
     "output_type": "display_data"
    },
    {
     "name": "stdout",
     "output_type": "stream",
     "text": [
      "\n",
      "INFO - 04/15/21 21:27:51 - 2:07:03 - Saving checkpoint.\n",
      "INFO - 04/15/21 21:27:52 - 2:07:04 - End of epoch 23, took 17.9303 seconds.\n",
      "INFO - 04/15/21 21:27:52 - 2:07:04 - Average Train Loss: 9.060127922566608e-05\n",
      "INFO - 04/15/21 21:27:52 - 2:07:04 - Top-1 Train Accuracy: 98.378\n",
      "INFO - 04/15/21 21:27:52 - 2:07:04 - Top-1 Test Accuracy: 73.21\n",
      "INFO - 04/15/21 21:27:52 - 2:07:04 - Commence EPOCH 24\n"
     ]
    },
    {
     "data": {
      "application/vnd.jupyter.widget-view+json": {
       "model_id": "8c1edea7f4114cbb8ccf0225b0a52c85",
       "version_major": 2,
       "version_minor": 0
      },
      "text/plain": [
       "HBox(children=(FloatProgress(value=0.0, description='Training', max=98.0, style=ProgressStyle(description_widt…"
      ]
     },
     "metadata": {},
     "output_type": "display_data"
    },
    {
     "name": "stdout",
     "output_type": "stream",
     "text": [
      "\n"
     ]
    },
    {
     "data": {
      "application/vnd.jupyter.widget-view+json": {
       "model_id": "19548a9f774146d386f20bba41ccf022",
       "version_major": 2,
       "version_minor": 0
      },
      "text/plain": [
       "HBox(children=(FloatProgress(value=0.0, description='Testing', max=20.0, style=ProgressStyle(description_width…"
      ]
     },
     "metadata": {},
     "output_type": "display_data"
    },
    {
     "name": "stdout",
     "output_type": "stream",
     "text": [
      "\n",
      "INFO - 04/15/21 21:28:09 - 2:07:21 - Saving checkpoint.\n",
      "INFO - 04/15/21 21:28:10 - 2:07:22 - End of epoch 24, took 17.9560 seconds.\n",
      "INFO - 04/15/21 21:28:10 - 2:07:22 - Average Train Loss: 8.817952766548842e-05\n",
      "INFO - 04/15/21 21:28:10 - 2:07:22 - Top-1 Train Accuracy: 98.48\n",
      "INFO - 04/15/21 21:28:10 - 2:07:22 - Top-1 Test Accuracy: 72.19\n",
      "INFO - 04/15/21 21:28:10 - 2:07:22 - Commence EPOCH 25\n"
     ]
    },
    {
     "data": {
      "application/vnd.jupyter.widget-view+json": {
       "model_id": "41010d9284d34ffbb088a0ae04b5c32b",
       "version_major": 2,
       "version_minor": 0
      },
      "text/plain": [
       "HBox(children=(FloatProgress(value=0.0, description='Training', max=98.0, style=ProgressStyle(description_widt…"
      ]
     },
     "metadata": {},
     "output_type": "display_data"
    },
    {
     "name": "stdout",
     "output_type": "stream",
     "text": [
      "\n"
     ]
    },
    {
     "data": {
      "application/vnd.jupyter.widget-view+json": {
       "model_id": "4fe686ad489948e2a57eea34facda0cc",
       "version_major": 2,
       "version_minor": 0
      },
      "text/plain": [
       "HBox(children=(FloatProgress(value=0.0, description='Testing', max=20.0, style=ProgressStyle(description_width…"
      ]
     },
     "metadata": {},
     "output_type": "display_data"
    },
    {
     "name": "stdout",
     "output_type": "stream",
     "text": [
      "\n",
      "INFO - 04/15/21 21:28:27 - 2:07:39 - Saving checkpoint.\n",
      "INFO - 04/15/21 21:28:28 - 2:07:40 - End of epoch 25, took 17.8910 seconds.\n",
      "INFO - 04/15/21 21:28:28 - 2:07:40 - Average Train Loss: 9.031326044350863e-05\n",
      "INFO - 04/15/21 21:28:28 - 2:07:40 - Top-1 Train Accuracy: 98.342\n",
      "INFO - 04/15/21 21:28:28 - 2:07:40 - Top-1 Test Accuracy: 70.94\n",
      "INFO - 04/15/21 21:28:28 - 2:07:40 - Commence EPOCH 26\n"
     ]
    },
    {
     "data": {
      "application/vnd.jupyter.widget-view+json": {
       "model_id": "8c28e2d9bb694f3da9974e40243102a6",
       "version_major": 2,
       "version_minor": 0
      },
      "text/plain": [
       "HBox(children=(FloatProgress(value=0.0, description='Training', max=98.0, style=ProgressStyle(description_widt…"
      ]
     },
     "metadata": {},
     "output_type": "display_data"
    },
    {
     "name": "stdout",
     "output_type": "stream",
     "text": [
      "\n"
     ]
    },
    {
     "data": {
      "application/vnd.jupyter.widget-view+json": {
       "model_id": "7e0728a4caf4465a87cfb6859ec7ff51",
       "version_major": 2,
       "version_minor": 0
      },
      "text/plain": [
       "HBox(children=(FloatProgress(value=0.0, description='Testing', max=20.0, style=ProgressStyle(description_width…"
      ]
     },
     "metadata": {},
     "output_type": "display_data"
    },
    {
     "name": "stdout",
     "output_type": "stream",
     "text": [
      "\n",
      "INFO - 04/15/21 21:28:45 - 2:07:57 - Saving checkpoint.\n",
      "INFO - 04/15/21 21:28:46 - 2:07:57 - End of epoch 26, took 17.8495 seconds.\n",
      "INFO - 04/15/21 21:28:46 - 2:07:57 - Average Train Loss: 9.89784239209257e-05\n",
      "INFO - 04/15/21 21:28:46 - 2:07:57 - Top-1 Train Accuracy: 98.236\n",
      "INFO - 04/15/21 21:28:46 - 2:07:57 - Top-1 Test Accuracy: 73.2\n",
      "INFO - 04/15/21 21:28:46 - 2:07:57 - Commence EPOCH 27\n"
     ]
    },
    {
     "data": {
      "application/vnd.jupyter.widget-view+json": {
       "model_id": "1faf074ab05644bf9be23b33664cab49",
       "version_major": 2,
       "version_minor": 0
      },
      "text/plain": [
       "HBox(children=(FloatProgress(value=0.0, description='Training', max=98.0, style=ProgressStyle(description_widt…"
      ]
     },
     "metadata": {},
     "output_type": "display_data"
    },
    {
     "name": "stdout",
     "output_type": "stream",
     "text": [
      "\n"
     ]
    },
    {
     "data": {
      "application/vnd.jupyter.widget-view+json": {
       "model_id": "9e3a0d688a804aedb0351446b4e49983",
       "version_major": 2,
       "version_minor": 0
      },
      "text/plain": [
       "HBox(children=(FloatProgress(value=0.0, description='Testing', max=20.0, style=ProgressStyle(description_width…"
      ]
     },
     "metadata": {},
     "output_type": "display_data"
    },
    {
     "name": "stdout",
     "output_type": "stream",
     "text": [
      "\n",
      "INFO - 04/15/21 21:29:03 - 2:08:15 - Saving checkpoint.\n",
      "INFO - 04/15/21 21:29:03 - 2:08:15 - End of epoch 27, took 17.7227 seconds.\n",
      "INFO - 04/15/21 21:29:03 - 2:08:15 - Average Train Loss: 6.885060429340228e-05\n",
      "INFO - 04/15/21 21:29:03 - 2:08:15 - Top-1 Train Accuracy: 98.82\n",
      "INFO - 04/15/21 21:29:03 - 2:08:15 - Top-1 Test Accuracy: 73.68\n",
      "INFO - 04/15/21 21:29:03 - 2:08:15 - Commence EPOCH 28\n"
     ]
    },
    {
     "data": {
      "application/vnd.jupyter.widget-view+json": {
       "model_id": "2f9d0cb65d364ec6b9c6e6f65fff1015",
       "version_major": 2,
       "version_minor": 0
      },
      "text/plain": [
       "HBox(children=(FloatProgress(value=0.0, description='Training', max=98.0, style=ProgressStyle(description_widt…"
      ]
     },
     "metadata": {},
     "output_type": "display_data"
    },
    {
     "name": "stdout",
     "output_type": "stream",
     "text": [
      "\n"
     ]
    },
    {
     "data": {
      "application/vnd.jupyter.widget-view+json": {
       "model_id": "5bce9beae7af48c18bc19300ac4ae107",
       "version_major": 2,
       "version_minor": 0
      },
      "text/plain": [
       "HBox(children=(FloatProgress(value=0.0, description='Testing', max=20.0, style=ProgressStyle(description_width…"
      ]
     },
     "metadata": {},
     "output_type": "display_data"
    },
    {
     "name": "stdout",
     "output_type": "stream",
     "text": [
      "\n",
      "INFO - 04/15/21 21:29:21 - 2:08:33 - Saving checkpoint.\n",
      "INFO - 04/15/21 21:29:21 - 2:08:33 - End of epoch 28, took 18.0853 seconds.\n",
      "INFO - 04/15/21 21:29:21 - 2:08:33 - Average Train Loss: 6.79901713738218e-05\n",
      "INFO - 04/15/21 21:29:21 - 2:08:33 - Top-1 Train Accuracy: 98.78\n",
      "INFO - 04/15/21 21:29:21 - 2:08:33 - Top-1 Test Accuracy: 73.77\n",
      "INFO - 04/15/21 21:29:21 - 2:08:33 - Commence EPOCH 29\n"
     ]
    },
    {
     "data": {
      "application/vnd.jupyter.widget-view+json": {
       "model_id": "f445ca221ca14a6eba8d8ca29e507664",
       "version_major": 2,
       "version_minor": 0
      },
      "text/plain": [
       "HBox(children=(FloatProgress(value=0.0, description='Training', max=98.0, style=ProgressStyle(description_widt…"
      ]
     },
     "metadata": {},
     "output_type": "display_data"
    },
    {
     "name": "stdout",
     "output_type": "stream",
     "text": [
      "\n"
     ]
    },
    {
     "data": {
      "application/vnd.jupyter.widget-view+json": {
       "model_id": "025278cde14d444da5488f3641a8fe39",
       "version_major": 2,
       "version_minor": 0
      },
      "text/plain": [
       "HBox(children=(FloatProgress(value=0.0, description='Testing', max=20.0, style=ProgressStyle(description_width…"
      ]
     },
     "metadata": {},
     "output_type": "display_data"
    },
    {
     "name": "stdout",
     "output_type": "stream",
     "text": [
      "\n",
      "INFO - 04/15/21 21:29:39 - 2:08:51 - Saving checkpoint.\n",
      "INFO - 04/15/21 21:29:39 - 2:08:51 - End of epoch 29, took 17.8371 seconds.\n",
      "INFO - 04/15/21 21:29:39 - 2:08:51 - Average Train Loss: 8.505459845764562e-05\n",
      "INFO - 04/15/21 21:29:39 - 2:08:51 - Top-1 Train Accuracy: 98.468\n",
      "INFO - 04/15/21 21:29:39 - 2:08:51 - Top-1 Test Accuracy: 72.5\n",
      "INFO - 04/15/21 21:29:39 - 2:08:51 - Commence EPOCH 30\n"
     ]
    },
    {
     "data": {
      "application/vnd.jupyter.widget-view+json": {
       "model_id": "9552debfe1234fe0bfe89b5b230b3f6d",
       "version_major": 2,
       "version_minor": 0
      },
      "text/plain": [
       "HBox(children=(FloatProgress(value=0.0, description='Training', max=98.0, style=ProgressStyle(description_widt…"
      ]
     },
     "metadata": {},
     "output_type": "display_data"
    },
    {
     "name": "stdout",
     "output_type": "stream",
     "text": [
      "\n"
     ]
    },
    {
     "data": {
      "application/vnd.jupyter.widget-view+json": {
       "model_id": "4f5d24c5d52d447ab00c2c71487e4261",
       "version_major": 2,
       "version_minor": 0
      },
      "text/plain": [
       "HBox(children=(FloatProgress(value=0.0, description='Testing', max=20.0, style=ProgressStyle(description_width…"
      ]
     },
     "metadata": {},
     "output_type": "display_data"
    },
    {
     "name": "stdout",
     "output_type": "stream",
     "text": [
      "\n",
      "INFO - 04/15/21 21:29:57 - 2:09:08 - Saving checkpoint.\n",
      "INFO - 04/15/21 21:29:57 - 2:09:09 - End of epoch 30, took 17.7516 seconds.\n",
      "INFO - 04/15/21 21:29:57 - 2:09:09 - Average Train Loss: 8.126992906909436e-05\n",
      "INFO - 04/15/21 21:29:57 - 2:09:09 - Top-1 Train Accuracy: 98.554\n",
      "INFO - 04/15/21 21:29:57 - 2:09:09 - Top-1 Test Accuracy: 73.97\n",
      "INFO - 04/15/21 21:29:57 - 2:09:09 - Commence EPOCH 31\n"
     ]
    },
    {
     "data": {
      "application/vnd.jupyter.widget-view+json": {
       "model_id": "c686a973b0304b0a9b0d43e1d9ac44eb",
       "version_major": 2,
       "version_minor": 0
      },
      "text/plain": [
       "HBox(children=(FloatProgress(value=0.0, description='Training', max=98.0, style=ProgressStyle(description_widt…"
      ]
     },
     "metadata": {},
     "output_type": "display_data"
    },
    {
     "name": "stdout",
     "output_type": "stream",
     "text": [
      "\n"
     ]
    },
    {
     "data": {
      "application/vnd.jupyter.widget-view+json": {
       "model_id": "4424ecd91a184e0f92ea5fd0a1021eae",
       "version_major": 2,
       "version_minor": 0
      },
      "text/plain": [
       "HBox(children=(FloatProgress(value=0.0, description='Testing', max=20.0, style=ProgressStyle(description_width…"
      ]
     },
     "metadata": {},
     "output_type": "display_data"
    },
    {
     "name": "stdout",
     "output_type": "stream",
     "text": [
      "\n",
      "INFO - 04/15/21 21:30:14 - 2:09:26 - Saving checkpoint.\n",
      "INFO - 04/15/21 21:30:15 - 2:09:27 - End of epoch 31, took 17.8244 seconds.\n",
      "INFO - 04/15/21 21:30:15 - 2:09:27 - Average Train Loss: 7.183341949712485e-05\n",
      "INFO - 04/15/21 21:30:15 - 2:09:27 - Top-1 Train Accuracy: 98.688\n",
      "INFO - 04/15/21 21:30:15 - 2:09:27 - Top-1 Test Accuracy: 72.7\n",
      "INFO - 04/15/21 21:30:15 - 2:09:27 - Commence EPOCH 32\n"
     ]
    },
    {
     "data": {
      "application/vnd.jupyter.widget-view+json": {
       "model_id": "7699e88c5fdd4fe5a5911838d3f78ced",
       "version_major": 2,
       "version_minor": 0
      },
      "text/plain": [
       "HBox(children=(FloatProgress(value=0.0, description='Training', max=98.0, style=ProgressStyle(description_widt…"
      ]
     },
     "metadata": {},
     "output_type": "display_data"
    },
    {
     "name": "stdout",
     "output_type": "stream",
     "text": [
      "\n"
     ]
    },
    {
     "data": {
      "application/vnd.jupyter.widget-view+json": {
       "model_id": "487e5bc57bdb44f68eda817494d2a939",
       "version_major": 2,
       "version_minor": 0
      },
      "text/plain": [
       "HBox(children=(FloatProgress(value=0.0, description='Testing', max=20.0, style=ProgressStyle(description_width…"
      ]
     },
     "metadata": {},
     "output_type": "display_data"
    },
    {
     "name": "stdout",
     "output_type": "stream",
     "text": [
      "\n",
      "INFO - 04/15/21 21:30:32 - 2:09:44 - Saving checkpoint.\n",
      "INFO - 04/15/21 21:30:33 - 2:09:45 - End of epoch 32, took 17.9668 seconds.\n",
      "INFO - 04/15/21 21:30:33 - 2:09:45 - Average Train Loss: 8.644994522910565e-05\n",
      "INFO - 04/15/21 21:30:33 - 2:09:45 - Top-1 Train Accuracy: 98.482\n",
      "INFO - 04/15/21 21:30:33 - 2:09:45 - Top-1 Test Accuracy: 72.87\n",
      "INFO - 04/15/21 21:30:33 - 2:09:45 - Commence EPOCH 33\n"
     ]
    },
    {
     "data": {
      "application/vnd.jupyter.widget-view+json": {
       "model_id": "9fd0626cc45e40479d2137330a6bc991",
       "version_major": 2,
       "version_minor": 0
      },
      "text/plain": [
       "HBox(children=(FloatProgress(value=0.0, description='Training', max=98.0, style=ProgressStyle(description_widt…"
      ]
     },
     "metadata": {},
     "output_type": "display_data"
    },
    {
     "name": "stdout",
     "output_type": "stream",
     "text": [
      "\n"
     ]
    },
    {
     "data": {
      "application/vnd.jupyter.widget-view+json": {
       "model_id": "8ee09ce8390c4142909dd257e4cf818a",
       "version_major": 2,
       "version_minor": 0
      },
      "text/plain": [
       "HBox(children=(FloatProgress(value=0.0, description='Testing', max=20.0, style=ProgressStyle(description_width…"
      ]
     },
     "metadata": {},
     "output_type": "display_data"
    },
    {
     "name": "stdout",
     "output_type": "stream",
     "text": [
      "\n",
      "INFO - 04/15/21 21:30:50 - 2:10:02 - Saving checkpoint.\n",
      "INFO - 04/15/21 21:30:51 - 2:10:02 - End of epoch 33, took 17.8900 seconds.\n",
      "INFO - 04/15/21 21:30:51 - 2:10:02 - Average Train Loss: 8.105935557978228e-05\n",
      "INFO - 04/15/21 21:30:51 - 2:10:02 - Top-1 Train Accuracy: 98.536\n",
      "INFO - 04/15/21 21:30:51 - 2:10:02 - Top-1 Test Accuracy: 73.12\n",
      "INFO - 04/15/21 21:30:51 - 2:10:02 - Commence EPOCH 34\n"
     ]
    },
    {
     "data": {
      "application/vnd.jupyter.widget-view+json": {
       "model_id": "460f89a3a81744c79cda09b0dadb2445",
       "version_major": 2,
       "version_minor": 0
      },
      "text/plain": [
       "HBox(children=(FloatProgress(value=0.0, description='Training', max=98.0, style=ProgressStyle(description_widt…"
      ]
     },
     "metadata": {},
     "output_type": "display_data"
    },
    {
     "name": "stdout",
     "output_type": "stream",
     "text": [
      "\n"
     ]
    },
    {
     "data": {
      "application/vnd.jupyter.widget-view+json": {
       "model_id": "801abacd088a4d628af6b77f6e9a35d3",
       "version_major": 2,
       "version_minor": 0
      },
      "text/plain": [
       "HBox(children=(FloatProgress(value=0.0, description='Testing', max=20.0, style=ProgressStyle(description_width…"
      ]
     },
     "metadata": {},
     "output_type": "display_data"
    },
    {
     "name": "stdout",
     "output_type": "stream",
     "text": [
      "\n",
      "INFO - 04/15/21 21:31:08 - 2:10:20 - Saving checkpoint.\n",
      "INFO - 04/15/21 21:31:09 - 2:10:20 - End of epoch 34, took 17.8508 seconds.\n",
      "INFO - 04/15/21 21:31:09 - 2:10:20 - Average Train Loss: 6.129020766820759e-05\n",
      "INFO - 04/15/21 21:31:09 - 2:10:20 - Top-1 Train Accuracy: 98.922\n",
      "INFO - 04/15/21 21:31:09 - 2:10:20 - Top-1 Test Accuracy: 73.72\n",
      "INFO - 04/15/21 21:31:09 - 2:10:20 - Commence EPOCH 35\n"
     ]
    },
    {
     "data": {
      "application/vnd.jupyter.widget-view+json": {
       "model_id": "543ed372783f4809a7623dd24f770b11",
       "version_major": 2,
       "version_minor": 0
      },
      "text/plain": [
       "HBox(children=(FloatProgress(value=0.0, description='Training', max=98.0, style=ProgressStyle(description_widt…"
      ]
     },
     "metadata": {},
     "output_type": "display_data"
    },
    {
     "name": "stdout",
     "output_type": "stream",
     "text": [
      "\n"
     ]
    },
    {
     "data": {
      "application/vnd.jupyter.widget-view+json": {
       "model_id": "479c35c4461d4cc297548eff239beadc",
       "version_major": 2,
       "version_minor": 0
      },
      "text/plain": [
       "HBox(children=(FloatProgress(value=0.0, description='Testing', max=20.0, style=ProgressStyle(description_width…"
      ]
     },
     "metadata": {},
     "output_type": "display_data"
    },
    {
     "name": "stdout",
     "output_type": "stream",
     "text": [
      "\n",
      "INFO - 04/15/21 21:31:26 - 2:10:38 - Saving checkpoint.\n",
      "INFO - 04/15/21 21:31:26 - 2:10:38 - End of epoch 35, took 17.8584 seconds.\n",
      "INFO - 04/15/21 21:31:26 - 2:10:38 - Average Train Loss: 7.434018334606662e-05\n",
      "INFO - 04/15/21 21:31:26 - 2:10:38 - Top-1 Train Accuracy: 98.716\n",
      "INFO - 04/15/21 21:31:26 - 2:10:38 - Top-1 Test Accuracy: 72.13\n",
      "INFO - 04/15/21 21:31:26 - 2:10:38 - Commence EPOCH 36\n"
     ]
    },
    {
     "data": {
      "application/vnd.jupyter.widget-view+json": {
       "model_id": "c63f6a64b7b94c3aa9daa702b43d64b2",
       "version_major": 2,
       "version_minor": 0
      },
      "text/plain": [
       "HBox(children=(FloatProgress(value=0.0, description='Training', max=98.0, style=ProgressStyle(description_widt…"
      ]
     },
     "metadata": {},
     "output_type": "display_data"
    },
    {
     "name": "stdout",
     "output_type": "stream",
     "text": [
      "\n"
     ]
    },
    {
     "data": {
      "application/vnd.jupyter.widget-view+json": {
       "model_id": "ce54fb366f004d7a9d6e426937fe93ce",
       "version_major": 2,
       "version_minor": 0
      },
      "text/plain": [
       "HBox(children=(FloatProgress(value=0.0, description='Testing', max=20.0, style=ProgressStyle(description_width…"
      ]
     },
     "metadata": {},
     "output_type": "display_data"
    },
    {
     "name": "stdout",
     "output_type": "stream",
     "text": [
      "\n",
      "INFO - 04/15/21 21:31:44 - 2:10:56 - Saving checkpoint.\n",
      "INFO - 04/15/21 21:31:44 - 2:10:56 - End of epoch 36, took 17.9638 seconds.\n",
      "INFO - 04/15/21 21:31:44 - 2:10:56 - Average Train Loss: 6.045266127330251e-05\n",
      "INFO - 04/15/21 21:31:44 - 2:10:56 - Top-1 Train Accuracy: 98.896\n",
      "INFO - 04/15/21 21:31:44 - 2:10:56 - Top-1 Test Accuracy: 72.7\n",
      "INFO - 04/15/21 21:31:44 - 2:10:56 - Commence EPOCH 37\n"
     ]
    },
    {
     "data": {
      "application/vnd.jupyter.widget-view+json": {
       "model_id": "81090533a02d4e56813094ca838ad13d",
       "version_major": 2,
       "version_minor": 0
      },
      "text/plain": [
       "HBox(children=(FloatProgress(value=0.0, description='Training', max=98.0, style=ProgressStyle(description_widt…"
      ]
     },
     "metadata": {},
     "output_type": "display_data"
    },
    {
     "name": "stdout",
     "output_type": "stream",
     "text": [
      "\n"
     ]
    },
    {
     "data": {
      "application/vnd.jupyter.widget-view+json": {
       "model_id": "053df8775d6d442197db2e6f0b582dcc",
       "version_major": 2,
       "version_minor": 0
      },
      "text/plain": [
       "HBox(children=(FloatProgress(value=0.0, description='Testing', max=20.0, style=ProgressStyle(description_width…"
      ]
     },
     "metadata": {},
     "output_type": "display_data"
    },
    {
     "name": "stdout",
     "output_type": "stream",
     "text": [
      "\n",
      "INFO - 04/15/21 21:32:02 - 2:11:13 - Saving checkpoint.\n",
      "INFO - 04/15/21 21:32:02 - 2:11:14 - End of epoch 37, took 17.7448 seconds.\n",
      "INFO - 04/15/21 21:32:02 - 2:11:14 - Average Train Loss: 5.6938322813948616e-05\n",
      "INFO - 04/15/21 21:32:02 - 2:11:14 - Top-1 Train Accuracy: 99.038\n",
      "INFO - 04/15/21 21:32:02 - 2:11:14 - Top-1 Test Accuracy: 72.81\n",
      "INFO - 04/15/21 21:32:02 - 2:11:14 - Commence EPOCH 38\n"
     ]
    },
    {
     "data": {
      "application/vnd.jupyter.widget-view+json": {
       "model_id": "e08e9526ee074bc38c66538ea556e984",
       "version_major": 2,
       "version_minor": 0
      },
      "text/plain": [
       "HBox(children=(FloatProgress(value=0.0, description='Training', max=98.0, style=ProgressStyle(description_widt…"
      ]
     },
     "metadata": {},
     "output_type": "display_data"
    },
    {
     "name": "stdout",
     "output_type": "stream",
     "text": [
      "\n"
     ]
    },
    {
     "data": {
      "application/vnd.jupyter.widget-view+json": {
       "model_id": "c9144c185b2b46909c3300ec3bccc823",
       "version_major": 2,
       "version_minor": 0
      },
      "text/plain": [
       "HBox(children=(FloatProgress(value=0.0, description='Testing', max=20.0, style=ProgressStyle(description_width…"
      ]
     },
     "metadata": {},
     "output_type": "display_data"
    },
    {
     "name": "stdout",
     "output_type": "stream",
     "text": [
      "\n",
      "INFO - 04/15/21 21:32:19 - 2:11:31 - Saving checkpoint.\n",
      "INFO - 04/15/21 21:32:20 - 2:11:32 - End of epoch 38, took 17.7612 seconds.\n",
      "INFO - 04/15/21 21:32:20 - 2:11:32 - Average Train Loss: 5.954849621048197e-05\n",
      "INFO - 04/15/21 21:32:20 - 2:11:32 - Top-1 Train Accuracy: 98.966\n",
      "INFO - 04/15/21 21:32:20 - 2:11:32 - Top-1 Test Accuracy: 72.38\n",
      "INFO - 04/15/21 21:32:20 - 2:11:32 - Commence EPOCH 39\n"
     ]
    },
    {
     "data": {
      "application/vnd.jupyter.widget-view+json": {
       "model_id": "b5c3d6d902a84eda9223bc3ace18a35e",
       "version_major": 2,
       "version_minor": 0
      },
      "text/plain": [
       "HBox(children=(FloatProgress(value=0.0, description='Training', max=98.0, style=ProgressStyle(description_widt…"
      ]
     },
     "metadata": {},
     "output_type": "display_data"
    },
    {
     "name": "stdout",
     "output_type": "stream",
     "text": [
      "\n"
     ]
    },
    {
     "data": {
      "application/vnd.jupyter.widget-view+json": {
       "model_id": "250b380ec2144aeca9ba753a6d4068c2",
       "version_major": 2,
       "version_minor": 0
      },
      "text/plain": [
       "HBox(children=(FloatProgress(value=0.0, description='Testing', max=20.0, style=ProgressStyle(description_width…"
      ]
     },
     "metadata": {},
     "output_type": "display_data"
    },
    {
     "name": "stdout",
     "output_type": "stream",
     "text": [
      "\n",
      "INFO - 04/15/21 21:32:37 - 2:11:49 - Saving checkpoint.\n",
      "INFO - 04/15/21 21:32:37 - 2:11:49 - End of epoch 39, took 17.4427 seconds.\n",
      "INFO - 04/15/21 21:32:37 - 2:11:49 - Average Train Loss: 7.709614874329418e-05\n",
      "INFO - 04/15/21 21:32:37 - 2:11:49 - Top-1 Train Accuracy: 98.674\n",
      "INFO - 04/15/21 21:32:37 - 2:11:49 - Top-1 Test Accuracy: 73.42\n",
      "INFO - 04/15/21 21:32:37 - 2:11:49 - Commence EPOCH 40\n"
     ]
    },
    {
     "data": {
      "application/vnd.jupyter.widget-view+json": {
       "model_id": "2f28e6531d9d4a6e92cab52ca9bf496d",
       "version_major": 2,
       "version_minor": 0
      },
      "text/plain": [
       "HBox(children=(FloatProgress(value=0.0, description='Training', max=98.0, style=ProgressStyle(description_widt…"
      ]
     },
     "metadata": {},
     "output_type": "display_data"
    },
    {
     "name": "stdout",
     "output_type": "stream",
     "text": [
      "\n"
     ]
    },
    {
     "data": {
      "application/vnd.jupyter.widget-view+json": {
       "model_id": "9f10fdc3b7d74260abb338b6d83af8ca",
       "version_major": 2,
       "version_minor": 0
      },
      "text/plain": [
       "HBox(children=(FloatProgress(value=0.0, description='Testing', max=20.0, style=ProgressStyle(description_width…"
      ]
     },
     "metadata": {},
     "output_type": "display_data"
    },
    {
     "name": "stdout",
     "output_type": "stream",
     "text": [
      "\n",
      "INFO - 04/15/21 21:32:54 - 2:12:06 - Saving checkpoint.\n",
      "INFO - 04/15/21 21:32:55 - 2:12:06 - End of epoch 40, took 17.2073 seconds.\n",
      "INFO - 04/15/21 21:32:55 - 2:12:06 - Average Train Loss: 7.422857743222266e-05\n",
      "INFO - 04/15/21 21:32:55 - 2:12:06 - Top-1 Train Accuracy: 98.742\n",
      "INFO - 04/15/21 21:32:55 - 2:12:06 - Top-1 Test Accuracy: 72.67\n",
      "INFO - 04/15/21 21:32:55 - 2:12:06 - Commence EPOCH 41\n"
     ]
    },
    {
     "data": {
      "application/vnd.jupyter.widget-view+json": {
       "model_id": "646d587036ab48a1b15e6caee10c1cb1",
       "version_major": 2,
       "version_minor": 0
      },
      "text/plain": [
       "HBox(children=(FloatProgress(value=0.0, description='Training', max=98.0, style=ProgressStyle(description_widt…"
      ]
     },
     "metadata": {},
     "output_type": "display_data"
    },
    {
     "name": "stdout",
     "output_type": "stream",
     "text": [
      "\n"
     ]
    },
    {
     "data": {
      "application/vnd.jupyter.widget-view+json": {
       "model_id": "94e0525dcd7e499792ed76e7d710a3f2",
       "version_major": 2,
       "version_minor": 0
      },
      "text/plain": [
       "HBox(children=(FloatProgress(value=0.0, description='Testing', max=20.0, style=ProgressStyle(description_width…"
      ]
     },
     "metadata": {},
     "output_type": "display_data"
    },
    {
     "name": "stdout",
     "output_type": "stream",
     "text": [
      "\n",
      "INFO - 04/15/21 21:33:11 - 2:12:23 - Saving checkpoint.\n",
      "INFO - 04/15/21 21:33:12 - 2:12:23 - End of epoch 41, took 17.0791 seconds.\n",
      "INFO - 04/15/21 21:33:12 - 2:12:23 - Average Train Loss: 5.76362872379832e-05\n",
      "INFO - 04/15/21 21:33:12 - 2:12:23 - Top-1 Train Accuracy: 99.04\n",
      "INFO - 04/15/21 21:33:12 - 2:12:23 - Top-1 Test Accuracy: 73.34\n",
      "INFO - 04/15/21 21:33:12 - 2:12:23 - Commence EPOCH 42\n"
     ]
    },
    {
     "data": {
      "application/vnd.jupyter.widget-view+json": {
       "model_id": "391adfe01f9b4863a5e31824deb46d71",
       "version_major": 2,
       "version_minor": 0
      },
      "text/plain": [
       "HBox(children=(FloatProgress(value=0.0, description='Training', max=98.0, style=ProgressStyle(description_widt…"
      ]
     },
     "metadata": {},
     "output_type": "display_data"
    },
    {
     "name": "stdout",
     "output_type": "stream",
     "text": [
      "\n"
     ]
    },
    {
     "data": {
      "application/vnd.jupyter.widget-view+json": {
       "model_id": "86092602e27b405d8274db1e7d7dc84c",
       "version_major": 2,
       "version_minor": 0
      },
      "text/plain": [
       "HBox(children=(FloatProgress(value=0.0, description='Testing', max=20.0, style=ProgressStyle(description_width…"
      ]
     },
     "metadata": {},
     "output_type": "display_data"
    },
    {
     "name": "stdout",
     "output_type": "stream",
     "text": [
      "\n",
      "INFO - 04/15/21 21:33:29 - 2:12:40 - Saving checkpoint.\n",
      "INFO - 04/15/21 21:33:29 - 2:12:41 - End of epoch 42, took 17.3443 seconds.\n",
      "INFO - 04/15/21 21:33:29 - 2:12:41 - Average Train Loss: 6.302799010882154e-05\n",
      "INFO - 04/15/21 21:33:29 - 2:12:41 - Top-1 Train Accuracy: 98.886\n",
      "INFO - 04/15/21 21:33:29 - 2:12:41 - Top-1 Test Accuracy: 73.87\n",
      "INFO - 04/15/21 21:33:29 - 2:12:41 - Commence EPOCH 43\n"
     ]
    },
    {
     "data": {
      "application/vnd.jupyter.widget-view+json": {
       "model_id": "e10d750454a14c86a22b5611c681b895",
       "version_major": 2,
       "version_minor": 0
      },
      "text/plain": [
       "HBox(children=(FloatProgress(value=0.0, description='Training', max=98.0, style=ProgressStyle(description_widt…"
      ]
     },
     "metadata": {},
     "output_type": "display_data"
    },
    {
     "name": "stdout",
     "output_type": "stream",
     "text": [
      "\n"
     ]
    },
    {
     "data": {
      "application/vnd.jupyter.widget-view+json": {
       "model_id": "af0d505b44b24f2abff626731927bdd5",
       "version_major": 2,
       "version_minor": 0
      },
      "text/plain": [
       "HBox(children=(FloatProgress(value=0.0, description='Testing', max=20.0, style=ProgressStyle(description_width…"
      ]
     },
     "metadata": {},
     "output_type": "display_data"
    },
    {
     "name": "stdout",
     "output_type": "stream",
     "text": [
      "\n",
      "INFO - 04/15/21 21:33:46 - 2:12:57 - Saving checkpoint.\n",
      "INFO - 04/15/21 21:33:46 - 2:12:58 - End of epoch 43, took 17.0435 seconds.\n",
      "INFO - 04/15/21 21:33:46 - 2:12:58 - Average Train Loss: 6.336040678434074e-05\n",
      "INFO - 04/15/21 21:33:46 - 2:12:58 - Top-1 Train Accuracy: 98.914\n",
      "INFO - 04/15/21 21:33:46 - 2:12:58 - Top-1 Test Accuracy: 74.33\n",
      "INFO - 04/15/21 21:33:46 - 2:12:58 - Commence EPOCH 44\n"
     ]
    },
    {
     "data": {
      "application/vnd.jupyter.widget-view+json": {
       "model_id": "d154929bb05343a386292e94c4eabb4c",
       "version_major": 2,
       "version_minor": 0
      },
      "text/plain": [
       "HBox(children=(FloatProgress(value=0.0, description='Training', max=98.0, style=ProgressStyle(description_widt…"
      ]
     },
     "metadata": {},
     "output_type": "display_data"
    },
    {
     "name": "stdout",
     "output_type": "stream",
     "text": [
      "\n"
     ]
    },
    {
     "data": {
      "application/vnd.jupyter.widget-view+json": {
       "model_id": "c169adf137824431b3fe5bc95ee74c92",
       "version_major": 2,
       "version_minor": 0
      },
      "text/plain": [
       "HBox(children=(FloatProgress(value=0.0, description='Testing', max=20.0, style=ProgressStyle(description_width…"
      ]
     },
     "metadata": {},
     "output_type": "display_data"
    },
    {
     "name": "stdout",
     "output_type": "stream",
     "text": [
      "\n",
      "INFO - 04/15/21 21:34:03 - 2:13:15 - Saving checkpoint.\n",
      "INFO - 04/15/21 21:34:03 - 2:13:15 - End of epoch 44, took 17.2058 seconds.\n",
      "INFO - 04/15/21 21:34:03 - 2:13:15 - Average Train Loss: 3.495893543004058e-05\n",
      "INFO - 04/15/21 21:34:03 - 2:13:15 - Top-1 Train Accuracy: 99.38\n",
      "INFO - 04/15/21 21:34:03 - 2:13:15 - Top-1 Test Accuracy: 73.58\n",
      "INFO - 04/15/21 21:34:03 - 2:13:15 - Commence EPOCH 45\n"
     ]
    },
    {
     "data": {
      "application/vnd.jupyter.widget-view+json": {
       "model_id": "66cab8ef1f7c432a9c6ac6406b5da410",
       "version_major": 2,
       "version_minor": 0
      },
      "text/plain": [
       "HBox(children=(FloatProgress(value=0.0, description='Training', max=98.0, style=ProgressStyle(description_widt…"
      ]
     },
     "metadata": {},
     "output_type": "display_data"
    },
    {
     "name": "stdout",
     "output_type": "stream",
     "text": [
      "\n"
     ]
    },
    {
     "data": {
      "application/vnd.jupyter.widget-view+json": {
       "model_id": "74f7f3b5444f4ada8d4f4684b100a55d",
       "version_major": 2,
       "version_minor": 0
      },
      "text/plain": [
       "HBox(children=(FloatProgress(value=0.0, description='Testing', max=20.0, style=ProgressStyle(description_width…"
      ]
     },
     "metadata": {},
     "output_type": "display_data"
    },
    {
     "name": "stdout",
     "output_type": "stream",
     "text": [
      "\n",
      "INFO - 04/15/21 21:34:20 - 2:13:32 - Saving checkpoint.\n",
      "INFO - 04/15/21 21:34:20 - 2:13:32 - End of epoch 45, took 17.1717 seconds.\n",
      "INFO - 04/15/21 21:34:20 - 2:13:32 - Average Train Loss: 3.8501071685459465e-05\n",
      "INFO - 04/15/21 21:34:20 - 2:13:32 - Top-1 Train Accuracy: 99.362\n",
      "INFO - 04/15/21 21:34:20 - 2:13:32 - Top-1 Test Accuracy: 72.92\n",
      "INFO - 04/15/21 21:34:20 - 2:13:32 - Commence EPOCH 46\n"
     ]
    },
    {
     "data": {
      "application/vnd.jupyter.widget-view+json": {
       "model_id": "9fe24e589e9d4dc1af37ef161ba93cf0",
       "version_major": 2,
       "version_minor": 0
      },
      "text/plain": [
       "HBox(children=(FloatProgress(value=0.0, description='Training', max=98.0, style=ProgressStyle(description_widt…"
      ]
     },
     "metadata": {},
     "output_type": "display_data"
    },
    {
     "name": "stdout",
     "output_type": "stream",
     "text": [
      "\n"
     ]
    },
    {
     "data": {
      "application/vnd.jupyter.widget-view+json": {
       "model_id": "c6652cced4a646b4bb4de7df3a124038",
       "version_major": 2,
       "version_minor": 0
      },
      "text/plain": [
       "HBox(children=(FloatProgress(value=0.0, description='Testing', max=20.0, style=ProgressStyle(description_width…"
      ]
     },
     "metadata": {},
     "output_type": "display_data"
    },
    {
     "name": "stdout",
     "output_type": "stream",
     "text": [
      "\n",
      "INFO - 04/15/21 21:34:37 - 2:13:49 - Saving checkpoint.\n",
      "INFO - 04/15/21 21:34:38 - 2:13:49 - End of epoch 46, took 17.1948 seconds.\n",
      "INFO - 04/15/21 21:34:38 - 2:13:49 - Average Train Loss: 7.425589137710631e-05\n",
      "INFO - 04/15/21 21:34:38 - 2:13:49 - Top-1 Train Accuracy: 98.634\n",
      "INFO - 04/15/21 21:34:38 - 2:13:49 - Top-1 Test Accuracy: 73.25\n",
      "INFO - 04/15/21 21:34:38 - 2:13:49 - Commence EPOCH 47\n"
     ]
    },
    {
     "data": {
      "application/vnd.jupyter.widget-view+json": {
       "model_id": "cb5df3d8830644f989bbd6573db9c41f",
       "version_major": 2,
       "version_minor": 0
      },
      "text/plain": [
       "HBox(children=(FloatProgress(value=0.0, description='Training', max=98.0, style=ProgressStyle(description_widt…"
      ]
     },
     "metadata": {},
     "output_type": "display_data"
    },
    {
     "name": "stdout",
     "output_type": "stream",
     "text": [
      "\n"
     ]
    },
    {
     "data": {
      "application/vnd.jupyter.widget-view+json": {
       "model_id": "832ad2e302a94f02aee90a427c186767",
       "version_major": 2,
       "version_minor": 0
      },
      "text/plain": [
       "HBox(children=(FloatProgress(value=0.0, description='Testing', max=20.0, style=ProgressStyle(description_width…"
      ]
     },
     "metadata": {},
     "output_type": "display_data"
    },
    {
     "name": "stdout",
     "output_type": "stream",
     "text": [
      "\n",
      "INFO - 04/15/21 21:34:54 - 2:14:06 - Saving checkpoint.\n",
      "INFO - 04/15/21 21:34:55 - 2:14:06 - End of epoch 47, took 17.0136 seconds.\n",
      "INFO - 04/15/21 21:34:55 - 2:14:06 - Average Train Loss: 7.005617953836918e-05\n",
      "INFO - 04/15/21 21:34:55 - 2:14:06 - Top-1 Train Accuracy: 98.756\n",
      "INFO - 04/15/21 21:34:55 - 2:14:06 - Top-1 Test Accuracy: 73.47\n",
      "INFO - 04/15/21 21:34:55 - 2:14:06 - Commence EPOCH 48\n"
     ]
    },
    {
     "data": {
      "application/vnd.jupyter.widget-view+json": {
       "model_id": "fc92d670a9144f7bbd3bf4c6f2a7b77e",
       "version_major": 2,
       "version_minor": 0
      },
      "text/plain": [
       "HBox(children=(FloatProgress(value=0.0, description='Training', max=98.0, style=ProgressStyle(description_widt…"
      ]
     },
     "metadata": {},
     "output_type": "display_data"
    },
    {
     "name": "stdout",
     "output_type": "stream",
     "text": [
      "\n"
     ]
    },
    {
     "data": {
      "application/vnd.jupyter.widget-view+json": {
       "model_id": "07ed8f52b22f4542a200867c8550f872",
       "version_major": 2,
       "version_minor": 0
      },
      "text/plain": [
       "HBox(children=(FloatProgress(value=0.0, description='Testing', max=20.0, style=ProgressStyle(description_width…"
      ]
     },
     "metadata": {},
     "output_type": "display_data"
    },
    {
     "name": "stdout",
     "output_type": "stream",
     "text": [
      "\n",
      "INFO - 04/15/21 21:35:11 - 2:14:23 - Saving checkpoint.\n",
      "INFO - 04/15/21 21:35:12 - 2:14:23 - End of epoch 48, took 17.0781 seconds.\n",
      "INFO - 04/15/21 21:35:12 - 2:14:23 - Average Train Loss: 6.279886292759329e-05\n",
      "INFO - 04/15/21 21:35:12 - 2:14:23 - Top-1 Train Accuracy: 98.856\n",
      "INFO - 04/15/21 21:35:12 - 2:14:23 - Top-1 Test Accuracy: 72.56\n",
      "INFO - 04/15/21 21:35:12 - 2:14:23 - Commence EPOCH 49\n"
     ]
    },
    {
     "data": {
      "application/vnd.jupyter.widget-view+json": {
       "model_id": "6ddbc35993d24b0297d3d1b1699d7393",
       "version_major": 2,
       "version_minor": 0
      },
      "text/plain": [
       "HBox(children=(FloatProgress(value=0.0, description='Training', max=98.0, style=ProgressStyle(description_widt…"
      ]
     },
     "metadata": {},
     "output_type": "display_data"
    },
    {
     "name": "stdout",
     "output_type": "stream",
     "text": [
      "\n"
     ]
    },
    {
     "data": {
      "application/vnd.jupyter.widget-view+json": {
       "model_id": "b27051cb2a404b0ca4c2ca77aaee5670",
       "version_major": 2,
       "version_minor": 0
      },
      "text/plain": [
       "HBox(children=(FloatProgress(value=0.0, description='Testing', max=20.0, style=ProgressStyle(description_width…"
      ]
     },
     "metadata": {},
     "output_type": "display_data"
    },
    {
     "name": "stdout",
     "output_type": "stream",
     "text": [
      "\n",
      "INFO - 04/15/21 21:35:29 - 2:14:40 - Saving checkpoint.\n",
      "INFO - 04/15/21 21:35:29 - 2:14:41 - End of epoch 49, took 17.3974 seconds.\n",
      "INFO - 04/15/21 21:35:29 - 2:14:41 - Average Train Loss: 5.1597402489278466e-05\n",
      "INFO - 04/15/21 21:35:29 - 2:14:41 - Top-1 Train Accuracy: 99.076\n",
      "INFO - 04/15/21 21:35:29 - 2:14:41 - Top-1 Test Accuracy: 74.38\n",
      "INFO - 04/15/21 21:35:29 - 2:14:41 - Commence EPOCH 50\n"
     ]
    },
    {
     "data": {
      "application/vnd.jupyter.widget-view+json": {
       "model_id": "8bc4f7009c4d4bd9b5cfae04c8586d4c",
       "version_major": 2,
       "version_minor": 0
      },
      "text/plain": [
       "HBox(children=(FloatProgress(value=0.0, description='Training', max=98.0, style=ProgressStyle(description_widt…"
      ]
     },
     "metadata": {},
     "output_type": "display_data"
    },
    {
     "name": "stdout",
     "output_type": "stream",
     "text": [
      "\n"
     ]
    },
    {
     "data": {
      "application/vnd.jupyter.widget-view+json": {
       "model_id": "4ecba3329f4943559bbd409763d5b707",
       "version_major": 2,
       "version_minor": 0
      },
      "text/plain": [
       "HBox(children=(FloatProgress(value=0.0, description='Testing', max=20.0, style=ProgressStyle(description_width…"
      ]
     },
     "metadata": {},
     "output_type": "display_data"
    },
    {
     "name": "stdout",
     "output_type": "stream",
     "text": [
      "\n",
      "INFO - 04/15/21 21:35:46 - 2:14:58 - Saving checkpoint.\n",
      "INFO - 04/15/21 21:35:46 - 2:14:58 - End of epoch 50, took 17.1323 seconds.\n",
      "INFO - 04/15/21 21:35:46 - 2:14:58 - Average Train Loss: 4.700747740571387e-05\n",
      "INFO - 04/15/21 21:35:46 - 2:14:58 - Top-1 Train Accuracy: 99.164\n",
      "INFO - 04/15/21 21:35:46 - 2:14:58 - Top-1 Test Accuracy: 73.95\n",
      "INFO - 04/15/21 21:35:46 - 2:14:58 - Commence EPOCH 51\n"
     ]
    },
    {
     "data": {
      "application/vnd.jupyter.widget-view+json": {
       "model_id": "b7b359f8fbf14a40a20a946309995acb",
       "version_major": 2,
       "version_minor": 0
      },
      "text/plain": [
       "HBox(children=(FloatProgress(value=0.0, description='Training', max=98.0, style=ProgressStyle(description_widt…"
      ]
     },
     "metadata": {},
     "output_type": "display_data"
    },
    {
     "name": "stdout",
     "output_type": "stream",
     "text": [
      "\n"
     ]
    },
    {
     "data": {
      "application/vnd.jupyter.widget-view+json": {
       "model_id": "7df5f4904a6344269da32b0ada296739",
       "version_major": 2,
       "version_minor": 0
      },
      "text/plain": [
       "HBox(children=(FloatProgress(value=0.0, description='Testing', max=20.0, style=ProgressStyle(description_width…"
      ]
     },
     "metadata": {},
     "output_type": "display_data"
    },
    {
     "name": "stdout",
     "output_type": "stream",
     "text": [
      "\n",
      "INFO - 04/15/21 21:36:03 - 2:15:15 - Saving checkpoint.\n",
      "INFO - 04/15/21 21:36:03 - 2:15:15 - End of epoch 51, took 17.1456 seconds.\n",
      "INFO - 04/15/21 21:36:03 - 2:15:15 - Average Train Loss: 4.2363226384622976e-05\n",
      "INFO - 04/15/21 21:36:03 - 2:15:15 - Top-1 Train Accuracy: 99.266\n",
      "INFO - 04/15/21 21:36:03 - 2:15:15 - Top-1 Test Accuracy: 73.66\n",
      "INFO - 04/15/21 21:36:03 - 2:15:15 - Commence EPOCH 52\n"
     ]
    },
    {
     "data": {
      "application/vnd.jupyter.widget-view+json": {
       "model_id": "681a92af17134f089e6c7fd23abb2d86",
       "version_major": 2,
       "version_minor": 0
      },
      "text/plain": [
       "HBox(children=(FloatProgress(value=0.0, description='Training', max=98.0, style=ProgressStyle(description_widt…"
      ]
     },
     "metadata": {},
     "output_type": "display_data"
    },
    {
     "name": "stdout",
     "output_type": "stream",
     "text": [
      "\n"
     ]
    },
    {
     "data": {
      "application/vnd.jupyter.widget-view+json": {
       "model_id": "b880e2af56d14702b3470c12d6ab096b",
       "version_major": 2,
       "version_minor": 0
      },
      "text/plain": [
       "HBox(children=(FloatProgress(value=0.0, description='Testing', max=20.0, style=ProgressStyle(description_width…"
      ]
     },
     "metadata": {},
     "output_type": "display_data"
    },
    {
     "name": "stdout",
     "output_type": "stream",
     "text": [
      "\n",
      "INFO - 04/15/21 21:36:20 - 2:15:32 - Saving checkpoint.\n",
      "INFO - 04/15/21 21:36:21 - 2:15:32 - End of epoch 52, took 17.2797 seconds.\n",
      "INFO - 04/15/21 21:36:21 - 2:15:32 - Average Train Loss: 4.221514245728031e-05\n",
      "INFO - 04/15/21 21:36:21 - 2:15:32 - Top-1 Train Accuracy: 99.254\n",
      "INFO - 04/15/21 21:36:21 - 2:15:32 - Top-1 Test Accuracy: 73.34\n",
      "INFO - 04/15/21 21:36:21 - 2:15:32 - Commence EPOCH 53\n"
     ]
    },
    {
     "data": {
      "application/vnd.jupyter.widget-view+json": {
       "model_id": "144ac54dc9764d9caae55adf30161658",
       "version_major": 2,
       "version_minor": 0
      },
      "text/plain": [
       "HBox(children=(FloatProgress(value=0.0, description='Training', max=98.0, style=ProgressStyle(description_widt…"
      ]
     },
     "metadata": {},
     "output_type": "display_data"
    },
    {
     "name": "stdout",
     "output_type": "stream",
     "text": [
      "\n"
     ]
    },
    {
     "data": {
      "application/vnd.jupyter.widget-view+json": {
       "model_id": "74c0b3b922f64575ac21ce2fe8980c99",
       "version_major": 2,
       "version_minor": 0
      },
      "text/plain": [
       "HBox(children=(FloatProgress(value=0.0, description='Testing', max=20.0, style=ProgressStyle(description_width…"
      ]
     },
     "metadata": {},
     "output_type": "display_data"
    },
    {
     "name": "stdout",
     "output_type": "stream",
     "text": [
      "\n",
      "INFO - 04/15/21 21:36:37 - 2:15:49 - Saving checkpoint.\n",
      "INFO - 04/15/21 21:36:38 - 2:15:50 - End of epoch 53, took 17.2221 seconds.\n",
      "INFO - 04/15/21 21:36:38 - 2:15:50 - Average Train Loss: 5.9954621974611655e-05\n",
      "INFO - 04/15/21 21:36:38 - 2:15:50 - Top-1 Train Accuracy: 98.948\n",
      "INFO - 04/15/21 21:36:38 - 2:15:50 - Top-1 Test Accuracy: 73.26\n",
      "INFO - 04/15/21 21:36:38 - 2:15:50 - Commence EPOCH 54\n"
     ]
    },
    {
     "data": {
      "application/vnd.jupyter.widget-view+json": {
       "model_id": "55ccfdf37f0d4feeae968d8278308192",
       "version_major": 2,
       "version_minor": 0
      },
      "text/plain": [
       "HBox(children=(FloatProgress(value=0.0, description='Training', max=98.0, style=ProgressStyle(description_widt…"
      ]
     },
     "metadata": {},
     "output_type": "display_data"
    },
    {
     "name": "stdout",
     "output_type": "stream",
     "text": [
      "\n"
     ]
    },
    {
     "data": {
      "application/vnd.jupyter.widget-view+json": {
       "model_id": "ff90f939505d41be8cd09e3f65486998",
       "version_major": 2,
       "version_minor": 0
      },
      "text/plain": [
       "HBox(children=(FloatProgress(value=0.0, description='Testing', max=20.0, style=ProgressStyle(description_width…"
      ]
     },
     "metadata": {},
     "output_type": "display_data"
    },
    {
     "name": "stdout",
     "output_type": "stream",
     "text": [
      "\n",
      "INFO - 04/15/21 21:36:55 - 2:16:07 - Saving checkpoint.\n",
      "INFO - 04/15/21 21:36:55 - 2:16:07 - End of epoch 54, took 17.3497 seconds.\n",
      "INFO - 04/15/21 21:36:55 - 2:16:07 - Average Train Loss: 6.729531742166728e-05\n",
      "INFO - 04/15/21 21:36:55 - 2:16:07 - Top-1 Train Accuracy: 98.842\n",
      "INFO - 04/15/21 21:36:55 - 2:16:07 - Top-1 Test Accuracy: 73.75\n",
      "INFO - 04/15/21 21:36:55 - 2:16:07 - Commence EPOCH 55\n"
     ]
    },
    {
     "data": {
      "application/vnd.jupyter.widget-view+json": {
       "model_id": "922dbbcd96b34688a56007698df27339",
       "version_major": 2,
       "version_minor": 0
      },
      "text/plain": [
       "HBox(children=(FloatProgress(value=0.0, description='Training', max=98.0, style=ProgressStyle(description_widt…"
      ]
     },
     "metadata": {},
     "output_type": "display_data"
    },
    {
     "name": "stdout",
     "output_type": "stream",
     "text": [
      "\n"
     ]
    },
    {
     "data": {
      "application/vnd.jupyter.widget-view+json": {
       "model_id": "53c98df684b9464d936a66cb5fde8e6a",
       "version_major": 2,
       "version_minor": 0
      },
      "text/plain": [
       "HBox(children=(FloatProgress(value=0.0, description='Testing', max=20.0, style=ProgressStyle(description_width…"
      ]
     },
     "metadata": {},
     "output_type": "display_data"
    },
    {
     "name": "stdout",
     "output_type": "stream",
     "text": [
      "\n",
      "INFO - 04/15/21 21:37:12 - 2:16:24 - Saving checkpoint.\n",
      "INFO - 04/15/21 21:37:12 - 2:16:24 - End of epoch 55, took 17.2071 seconds.\n",
      "INFO - 04/15/21 21:37:12 - 2:16:24 - Average Train Loss: 5.465033245855011e-05\n",
      "INFO - 04/15/21 21:37:12 - 2:16:24 - Top-1 Train Accuracy: 99.06\n",
      "INFO - 04/15/21 21:37:12 - 2:16:24 - Top-1 Test Accuracy: 74.13\n",
      "INFO - 04/15/21 21:37:12 - 2:16:24 - Commence EPOCH 56\n"
     ]
    },
    {
     "data": {
      "application/vnd.jupyter.widget-view+json": {
       "model_id": "7d42aae2aecb47348f84a2bf7ee70e96",
       "version_major": 2,
       "version_minor": 0
      },
      "text/plain": [
       "HBox(children=(FloatProgress(value=0.0, description='Training', max=98.0, style=ProgressStyle(description_widt…"
      ]
     },
     "metadata": {},
     "output_type": "display_data"
    },
    {
     "name": "stdout",
     "output_type": "stream",
     "text": [
      "\n"
     ]
    },
    {
     "data": {
      "application/vnd.jupyter.widget-view+json": {
       "model_id": "05c5fef14a2f44409f8808a8c1d1ea9e",
       "version_major": 2,
       "version_minor": 0
      },
      "text/plain": [
       "HBox(children=(FloatProgress(value=0.0, description='Testing', max=20.0, style=ProgressStyle(description_width…"
      ]
     },
     "metadata": {},
     "output_type": "display_data"
    },
    {
     "name": "stdout",
     "output_type": "stream",
     "text": [
      "\n",
      "INFO - 04/15/21 21:37:30 - 2:16:41 - Saving checkpoint.\n",
      "INFO - 04/15/21 21:37:30 - 2:16:42 - End of epoch 56, took 17.5906 seconds.\n",
      "INFO - 04/15/21 21:37:30 - 2:16:42 - Average Train Loss: 4.537964196060784e-05\n",
      "INFO - 04/15/21 21:37:30 - 2:16:42 - Top-1 Train Accuracy: 99.208\n",
      "INFO - 04/15/21 21:37:30 - 2:16:42 - Top-1 Test Accuracy: 74.11\n",
      "INFO - 04/15/21 21:37:30 - 2:16:42 - Commence EPOCH 57\n"
     ]
    },
    {
     "data": {
      "application/vnd.jupyter.widget-view+json": {
       "model_id": "271e335078444a0cb8f858ebf66b10dd",
       "version_major": 2,
       "version_minor": 0
      },
      "text/plain": [
       "HBox(children=(FloatProgress(value=0.0, description='Training', max=98.0, style=ProgressStyle(description_widt…"
      ]
     },
     "metadata": {},
     "output_type": "display_data"
    },
    {
     "name": "stdout",
     "output_type": "stream",
     "text": [
      "\n"
     ]
    },
    {
     "data": {
      "application/vnd.jupyter.widget-view+json": {
       "model_id": "9c31d93c62d3426486d75be5d6416404",
       "version_major": 2,
       "version_minor": 0
      },
      "text/plain": [
       "HBox(children=(FloatProgress(value=0.0, description='Testing', max=20.0, style=ProgressStyle(description_width…"
      ]
     },
     "metadata": {},
     "output_type": "display_data"
    },
    {
     "name": "stdout",
     "output_type": "stream",
     "text": [
      "\n",
      "INFO - 04/15/21 21:37:47 - 2:16:59 - Saving checkpoint.\n",
      "INFO - 04/15/21 21:37:48 - 2:16:59 - End of epoch 57, took 17.5476 seconds.\n",
      "INFO - 04/15/21 21:37:48 - 2:16:59 - Average Train Loss: 5.434516424429603e-05\n",
      "INFO - 04/15/21 21:37:48 - 2:16:59 - Top-1 Train Accuracy: 99.088\n",
      "INFO - 04/15/21 21:37:48 - 2:16:59 - Top-1 Test Accuracy: 74.58\n",
      "INFO - 04/15/21 21:37:48 - 2:16:59 - Commence EPOCH 58\n"
     ]
    },
    {
     "data": {
      "application/vnd.jupyter.widget-view+json": {
       "model_id": "b8e6b30162db47fb834969cb44259801",
       "version_major": 2,
       "version_minor": 0
      },
      "text/plain": [
       "HBox(children=(FloatProgress(value=0.0, description='Training', max=98.0, style=ProgressStyle(description_widt…"
      ]
     },
     "metadata": {},
     "output_type": "display_data"
    },
    {
     "name": "stdout",
     "output_type": "stream",
     "text": [
      "\n"
     ]
    },
    {
     "data": {
      "application/vnd.jupyter.widget-view+json": {
       "model_id": "0dc8df19015e40e98eb71336934b19ee",
       "version_major": 2,
       "version_minor": 0
      },
      "text/plain": [
       "HBox(children=(FloatProgress(value=0.0, description='Testing', max=20.0, style=ProgressStyle(description_width…"
      ]
     },
     "metadata": {},
     "output_type": "display_data"
    },
    {
     "name": "stdout",
     "output_type": "stream",
     "text": [
      "\n",
      "INFO - 04/15/21 21:38:05 - 2:17:16 - Saving checkpoint.\n",
      "INFO - 04/15/21 21:38:05 - 2:17:17 - End of epoch 58, took 17.4100 seconds.\n",
      "INFO - 04/15/21 21:38:05 - 2:17:17 - Average Train Loss: 4.839987741434015e-05\n",
      "INFO - 04/15/21 21:38:05 - 2:17:17 - Top-1 Train Accuracy: 99.152\n",
      "INFO - 04/15/21 21:38:05 - 2:17:17 - Top-1 Test Accuracy: 74.14\n",
      "INFO - 04/15/21 21:38:05 - 2:17:17 - Commence EPOCH 59\n"
     ]
    },
    {
     "data": {
      "application/vnd.jupyter.widget-view+json": {
       "model_id": "668492c822694f25b68745b1d55adfdb",
       "version_major": 2,
       "version_minor": 0
      },
      "text/plain": [
       "HBox(children=(FloatProgress(value=0.0, description='Training', max=98.0, style=ProgressStyle(description_widt…"
      ]
     },
     "metadata": {},
     "output_type": "display_data"
    },
    {
     "name": "stdout",
     "output_type": "stream",
     "text": [
      "\n"
     ]
    },
    {
     "data": {
      "application/vnd.jupyter.widget-view+json": {
       "model_id": "fe6968564c6f44e0a2b833b2b0d07e8a",
       "version_major": 2,
       "version_minor": 0
      },
      "text/plain": [
       "HBox(children=(FloatProgress(value=0.0, description='Testing', max=20.0, style=ProgressStyle(description_width…"
      ]
     },
     "metadata": {},
     "output_type": "display_data"
    },
    {
     "name": "stdout",
     "output_type": "stream",
     "text": [
      "\n",
      "INFO - 04/15/21 21:38:22 - 2:17:34 - Saving checkpoint.\n",
      "INFO - 04/15/21 21:38:22 - 2:17:34 - End of epoch 59, took 17.4339 seconds.\n",
      "INFO - 04/15/21 21:38:22 - 2:17:34 - Average Train Loss: 3.888146238750778e-05\n",
      "INFO - 04/15/21 21:38:22 - 2:17:34 - Top-1 Train Accuracy: 99.35\n",
      "INFO - 04/15/21 21:38:22 - 2:17:34 - Top-1 Test Accuracy: 72.5\n"
     ]
    }
   ],
   "source": [
    "%run train_marked_classifier.py"
   ]
  },
  {
   "cell_type": "markdown",
   "metadata": {},
   "source": [
    "<h1>Detecting if a model is radioactive</h1>\n",
    "<p>This is self-contained within <strong>detect_radioactivity.py</strong></p>\n",
    "<p>Here we check for carrier alignment using cosine similarity</p>\n",
    "\n",
    "<p>On the output, you should obtain a line with \"log10(p)=...\", which gives the (log of the) p-value of radioactivity detection averaged across all classes.</p>"
   ]
  },
  {
   "cell_type": "code",
   "execution_count": 3,
   "metadata": {},
   "outputs": [
    {
     "name": "stdout",
     "output_type": "stream",
     "text": [
      "INFO - 04/15/21 21:58:30 - 2:37:42 - CUDA Available? True\n",
      "INFO - 04/15/21 21:58:30 - 2:37:42 - Aligning marking and target network feature space with least squares\n",
      "INFO - 04/15/21 21:58:30 - 2:37:42 - Extracting image features from marking and target networks.\n"
     ]
    },
    {
     "name": "stderr",
     "output_type": "stream",
     "text": [
      "/home/xl289/radioactive-lab/detect_radioactivity.py:149: FutureWarning: `rcond` parameter will change to the default of machine precision times ``max(M, N)`` where M and N are the input matrix dimensions.\n",
      "To use the future default and silence this warning we advise to pass `rcond=None`, to keep using the old, explicitly pass `rcond=-1`.\n",
      "  X, residuals, rank, s = np.linalg.lstsq(features_marking, features_target)\n"
     ]
    },
    {
     "name": "stdout",
     "output_type": "stream",
     "text": [
      "INFO - 04/15/21 21:58:36 - 2:37:48 - Norm of residual: 3.5716e+06\n",
      "INFO - 04/15/21 21:58:36 - 2:37:48 - Mean p-value is at 1 times sigma\n",
      "INFO - 04/15/21 21:58:36 - 2:37:48 - Epoch of the model: 59\n",
      "INFO - 04/15/21 21:58:36 - 2:37:48 - log10(p)=-1.1901726304193416\n",
      "INFO - 04/15/21 21:58:36 - 2:37:48 - Total took 6.10\n"
     ]
    }
   ],
   "source": [
    "%run detect_radioactivity.py"
   ]
  },
  {
   "cell_type": "code",
   "execution_count": null,
   "metadata": {},
   "outputs": [],
   "source": []
  }
 ],
 "metadata": {
  "kernelspec": {
   "display_name": "privacy",
   "language": "python",
   "name": "privacy"
  },
  "language_info": {
   "codemirror_mode": {
    "name": "ipython",
    "version": 3
   },
   "file_extension": ".py",
   "mimetype": "text/x-python",
   "name": "python",
   "nbconvert_exporter": "python",
   "pygments_lexer": "ipython3",
   "version": "3.6.10"
  }
 },
 "nbformat": 4,
 "nbformat_minor": 4
}
